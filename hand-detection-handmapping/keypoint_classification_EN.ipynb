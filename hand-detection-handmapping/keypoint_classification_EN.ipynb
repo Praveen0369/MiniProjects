{
 "cells": [
  {
   "cell_type": "code",
   "execution_count": 1,
   "metadata": {
    "id": "igMyGnjE9hEp"
   },
   "outputs": [],
   "source": [
    "import csv\n",
    "\n",
    "import numpy as np\n",
    "import tensorflow as tf\n",
    "from sklearn.model_selection import train_test_split\n",
    "\n",
    "RANDOM_SEED = 42"
   ]
  },
  {
   "cell_type": "markdown",
   "metadata": {
    "id": "t2HDvhIu9hEr"
   },
   "source": [
    "# Specify each path"
   ]
  },
  {
   "cell_type": "code",
   "execution_count": 2,
   "metadata": {
    "id": "9NvZP2Zn9hEy"
   },
   "outputs": [],
   "source": [
    "dataset = 'model/keypoint_classifier/keypoint.csv'\n",
    "model_save_path = 'model/keypoint_classifier/keypoint_classifier.hdf5'\n",
    "tflite_save_path = 'model/keypoint_classifier/keypoint_classifier.tflite'"
   ]
  },
  {
   "cell_type": "markdown",
   "metadata": {
    "id": "s5oMH7x19hEz"
   },
   "source": [
    "# Set number of classes"
   ]
  },
  {
   "cell_type": "code",
   "execution_count": 3,
   "metadata": {
    "id": "du4kodXL9hEz"
   },
   "outputs": [],
   "source": [
    "NUM_CLASSES = 14"
   ]
  },
  {
   "cell_type": "markdown",
   "metadata": {
    "id": "XjnL0uso9hEz"
   },
   "source": [
    "# Dataset reading"
   ]
  },
  {
   "cell_type": "code",
   "execution_count": 4,
   "metadata": {
    "id": "QT5ZqtEz9hE0"
   },
   "outputs": [],
   "source": [
    "X_dataset = np.loadtxt(dataset, delimiter=',', dtype='float32', usecols=list(range(1, (21 * 2) + 1)))"
   ]
  },
  {
   "cell_type": "code",
   "execution_count": 5,
   "metadata": {
    "id": "QmoKFsp49hE0"
   },
   "outputs": [],
   "source": [
    "y_dataset = np.loadtxt(dataset, delimiter=',', dtype='int32', usecols=(0))"
   ]
  },
  {
   "cell_type": "code",
   "execution_count": 6,
   "metadata": {
    "id": "xQU7JTZ_9hE0"
   },
   "outputs": [],
   "source": [
    "X_train, X_test, y_train, y_test = train_test_split(X_dataset, y_dataset, train_size=0.75, random_state=RANDOM_SEED)"
   ]
  },
  {
   "cell_type": "markdown",
   "metadata": {
    "id": "mxK_lETT9hE0"
   },
   "source": [
    "# Model building"
   ]
  },
  {
   "cell_type": "code",
   "execution_count": 7,
   "metadata": {
    "id": "vHBmUf1t9hE1"
   },
   "outputs": [],
   "source": [
    "model = tf.keras.models.Sequential([\n",
    "    tf.keras.layers.Input((21 * 2, )),\n",
    "    tf.keras.layers.Dropout(0.2),\n",
    "    tf.keras.layers.Dense(20, activation='relu'),\n",
    "    tf.keras.layers.Dropout(0.4),\n",
    "    tf.keras.layers.Dense(10, activation='relu'),\n",
    "    tf.keras.layers.Dense(NUM_CLASSES, activation='softmax')\n",
    "])"
   ]
  },
  {
   "cell_type": "code",
   "execution_count": 8,
   "metadata": {
    "colab": {
     "base_uri": "https://localhost:8080/"
    },
    "id": "ypqky9tc9hE1",
    "outputId": "5db082bb-30e3-4110-bf63-a1ee777ecd46"
   },
   "outputs": [
    {
     "name": "stdout",
     "output_type": "stream",
     "text": [
      "Model: \"sequential\"\n",
      "_________________________________________________________________\n",
      " Layer (type)                Output Shape              Param #   \n",
      "=================================================================\n",
      " dropout (Dropout)           (None, 42)                0         \n",
      "                                                                 \n",
      " dense (Dense)               (None, 20)                860       \n",
      "                                                                 \n",
      " dropout_1 (Dropout)         (None, 20)                0         \n",
      "                                                                 \n",
      " dense_1 (Dense)             (None, 10)                210       \n",
      "                                                                 \n",
      " dense_2 (Dense)             (None, 14)                154       \n",
      "                                                                 \n",
      "=================================================================\n",
      "Total params: 1,224\n",
      "Trainable params: 1,224\n",
      "Non-trainable params: 0\n",
      "_________________________________________________________________\n"
     ]
    }
   ],
   "source": [
    "model.summary()  # tf.keras.utils.plot_model(model, show_shapes=True)"
   ]
  },
  {
   "cell_type": "code",
   "execution_count": 9,
   "metadata": {
    "id": "MbMjOflQ9hE1"
   },
   "outputs": [],
   "source": [
    "# Model checkpoint callback\n",
    "cp_callback = tf.keras.callbacks.ModelCheckpoint(\n",
    "    model_save_path, verbose=1, save_weights_only=False)\n",
    "# Callback for early stopping\n",
    "es_callback = tf.keras.callbacks.EarlyStopping(patience=20, verbose=1)"
   ]
  },
  {
   "cell_type": "code",
   "execution_count": 10,
   "metadata": {
    "id": "c3Dac0M_9hE2"
   },
   "outputs": [],
   "source": [
    "# Model compilation\n",
    "model.compile(\n",
    "    optimizer='adam',\n",
    "    loss='sparse_categorical_crossentropy',\n",
    "    metrics=['accuracy']\n",
    ")"
   ]
  },
  {
   "cell_type": "markdown",
   "metadata": {
    "id": "7XI0j1Iu9hE2"
   },
   "source": [
    "# Model training"
   ]
  },
  {
   "cell_type": "code",
   "execution_count": 11,
   "metadata": {
    "colab": {
     "base_uri": "https://localhost:8080/"
    },
    "id": "WirBl-JE9hE3",
    "outputId": "71b30ca2-8294-4d9d-8aa2-800d90d399de",
    "scrolled": true
   },
   "outputs": [
    {
     "name": "stdout",
     "output_type": "stream",
     "text": [
      "Epoch 1/1000\n",
      "30/42 [====================>.........] - ETA: 0s - loss: 2.6721 - accuracy: 0.0711 \n",
      "Epoch 1: saving model to model/keypoint_classifier\\keypoint_classifier.hdf5\n",
      "42/42 [==============================] - 1s 7ms/step - loss: 2.6362 - accuracy: 0.0924 - val_loss: 2.4280 - val_accuracy: 0.2692\n",
      "Epoch 2/1000\n",
      "36/42 [========================>.....] - ETA: 0s - loss: 2.3915 - accuracy: 0.2233\n",
      "Epoch 2: saving model to model/keypoint_classifier\\keypoint_classifier.hdf5\n",
      "42/42 [==============================] - 0s 3ms/step - loss: 2.3700 - accuracy: 0.2284 - val_loss: 2.1765 - val_accuracy: 0.2857\n",
      "Epoch 3/1000\n",
      "29/42 [===================>..........] - ETA: 0s - loss: 2.1879 - accuracy: 0.2710\n",
      "Epoch 3: saving model to model/keypoint_classifier\\keypoint_classifier.hdf5\n",
      "42/42 [==============================] - 0s 3ms/step - loss: 2.1665 - accuracy: 0.2758 - val_loss: 1.9664 - val_accuracy: 0.3534\n",
      "Epoch 4/1000\n",
      "20/42 [=============>................] - ETA: 0s - loss: 2.0801 - accuracy: 0.2773\n",
      "Epoch 4: saving model to model/keypoint_classifier\\keypoint_classifier.hdf5\n",
      "42/42 [==============================] - 0s 3ms/step - loss: 2.0355 - accuracy: 0.2880 - val_loss: 1.7998 - val_accuracy: 0.4178\n",
      "Epoch 5/1000\n",
      "33/42 [======================>.......] - ETA: 0s - loss: 1.9000 - accuracy: 0.3068\n",
      "Epoch 5: saving model to model/keypoint_classifier\\keypoint_classifier.hdf5\n",
      "42/42 [==============================] - 0s 3ms/step - loss: 1.8986 - accuracy: 0.3068 - val_loss: 1.6663 - val_accuracy: 0.4451\n",
      "Epoch 6/1000\n",
      "40/42 [===========================>..] - ETA: 0s - loss: 1.7908 - accuracy: 0.3313\n",
      "Epoch 6: saving model to model/keypoint_classifier\\keypoint_classifier.hdf5\n",
      "42/42 [==============================] - 0s 3ms/step - loss: 1.7886 - accuracy: 0.3320 - val_loss: 1.5566 - val_accuracy: 0.4610\n",
      "Epoch 7/1000\n",
      "39/42 [==========================>...] - ETA: 0s - loss: 1.7077 - accuracy: 0.3470\n",
      "Epoch 7: saving model to model/keypoint_classifier\\keypoint_classifier.hdf5\n",
      "42/42 [==============================] - 0s 3ms/step - loss: 1.7076 - accuracy: 0.3474 - val_loss: 1.4656 - val_accuracy: 0.4826\n",
      "Epoch 8/1000\n",
      "32/42 [=====================>........] - ETA: 0s - loss: 1.6681 - accuracy: 0.3782\n",
      "Epoch 8: saving model to model/keypoint_classifier\\keypoint_classifier.hdf5\n",
      "42/42 [==============================] - 0s 4ms/step - loss: 1.6565 - accuracy: 0.3810 - val_loss: 1.3954 - val_accuracy: 0.5105\n",
      "Epoch 9/1000\n",
      "21/42 [==============>...............] - ETA: 0s - loss: 1.6060 - accuracy: 0.3787\n",
      "Epoch 9: saving model to model/keypoint_classifier\\keypoint_classifier.hdf5\n",
      "42/42 [==============================] - 0s 4ms/step - loss: 1.5963 - accuracy: 0.3836 - val_loss: 1.3311 - val_accuracy: 0.5612\n",
      "Epoch 10/1000\n",
      "41/42 [============================>.] - ETA: 0s - loss: 1.5522 - accuracy: 0.3979\n",
      "Epoch 10: saving model to model/keypoint_classifier\\keypoint_classifier.hdf5\n",
      "42/42 [==============================] - 0s 4ms/step - loss: 1.5515 - accuracy: 0.3975 - val_loss: 1.2799 - val_accuracy: 0.6118\n",
      "Epoch 11/1000\n",
      "26/42 [=================>............] - ETA: 0s - loss: 1.4986 - accuracy: 0.4213\n",
      "Epoch 11: saving model to model/keypoint_classifier\\keypoint_classifier.hdf5\n",
      "42/42 [==============================] - 0s 3ms/step - loss: 1.5008 - accuracy: 0.4153 - val_loss: 1.2255 - val_accuracy: 0.6158\n",
      "Epoch 12/1000\n",
      "27/42 [==================>...........] - ETA: 0s - loss: 1.4980 - accuracy: 0.4222\n",
      "Epoch 12: saving model to model/keypoint_classifier\\keypoint_classifier.hdf5\n",
      "42/42 [==============================] - 0s 3ms/step - loss: 1.4890 - accuracy: 0.4246 - val_loss: 1.1912 - val_accuracy: 0.6187\n",
      "Epoch 13/1000\n",
      "33/42 [======================>.......] - ETA: 0s - loss: 1.4548 - accuracy: 0.4418\n",
      "Epoch 13: saving model to model/keypoint_classifier\\keypoint_classifier.hdf5\n",
      "42/42 [==============================] - 0s 3ms/step - loss: 1.4498 - accuracy: 0.4419 - val_loss: 1.1511 - val_accuracy: 0.6636\n",
      "Epoch 14/1000\n",
      "38/42 [==========================>...] - ETA: 0s - loss: 1.4255 - accuracy: 0.4431\n",
      "Epoch 14: saving model to model/keypoint_classifier\\keypoint_classifier.hdf5\n",
      "42/42 [==============================] - 0s 3ms/step - loss: 1.4262 - accuracy: 0.4449 - val_loss: 1.1194 - val_accuracy: 0.6722\n",
      "Epoch 15/1000\n",
      "32/42 [=====================>........] - ETA: 0s - loss: 1.4064 - accuracy: 0.4585\n",
      "Epoch 15: saving model to model/keypoint_classifier\\keypoint_classifier.hdf5\n",
      "42/42 [==============================] - 0s 3ms/step - loss: 1.4104 - accuracy: 0.4563 - val_loss: 1.0870 - val_accuracy: 0.6870\n",
      "Epoch 16/1000\n",
      "42/42 [==============================] - ETA: 0s - loss: 1.3668 - accuracy: 0.4760\n",
      "Epoch 16: saving model to model/keypoint_classifier\\keypoint_classifier.hdf5\n",
      "42/42 [==============================] - 0s 2ms/step - loss: 1.3668 - accuracy: 0.4760 - val_loss: 1.0570 - val_accuracy: 0.6927\n",
      "Epoch 17/1000\n",
      "42/42 [==============================] - ETA: 0s - loss: 1.3635 - accuracy: 0.4823\n",
      "Epoch 17: saving model to model/keypoint_classifier\\keypoint_classifier.hdf5\n",
      "42/42 [==============================] - 0s 2ms/step - loss: 1.3635 - accuracy: 0.4823 - val_loss: 1.0257 - val_accuracy: 0.7018\n",
      "Epoch 18/1000\n",
      "35/42 [========================>.....] - ETA: 0s - loss: 1.3452 - accuracy: 0.4839\n",
      "Epoch 18: saving model to model/keypoint_classifier\\keypoint_classifier.hdf5\n",
      "42/42 [==============================] - 0s 3ms/step - loss: 1.3472 - accuracy: 0.4809 - val_loss: 1.0113 - val_accuracy: 0.7046\n",
      "Epoch 19/1000\n",
      "39/42 [==========================>...] - ETA: 0s - loss: 1.3168 - accuracy: 0.4910\n",
      "Epoch 19: saving model to model/keypoint_classifier\\keypoint_classifier.hdf5\n",
      "42/42 [==============================] - 0s 3ms/step - loss: 1.3170 - accuracy: 0.4912 - val_loss: 0.9843 - val_accuracy: 0.7200\n",
      "Epoch 20/1000\n",
      "36/42 [========================>.....] - ETA: 0s - loss: 1.3194 - accuracy: 0.4846\n",
      "Epoch 20: saving model to model/keypoint_classifier\\keypoint_classifier.hdf5\n",
      "42/42 [==============================] - 0s 3ms/step - loss: 1.3132 - accuracy: 0.4887 - val_loss: 0.9651 - val_accuracy: 0.7211\n",
      "Epoch 21/1000\n",
      "35/42 [========================>.....] - ETA: 0s - loss: 1.2943 - accuracy: 0.5016\n",
      "Epoch 21: saving model to model/keypoint_classifier\\keypoint_classifier.hdf5\n",
      "42/42 [==============================] - 0s 3ms/step - loss: 1.2862 - accuracy: 0.5054 - val_loss: 0.9430 - val_accuracy: 0.7371\n",
      "Epoch 22/1000\n",
      "36/42 [========================>.....] - ETA: 0s - loss: 1.2873 - accuracy: 0.4896\n",
      "Epoch 22: saving model to model/keypoint_classifier\\keypoint_classifier.hdf5\n",
      "42/42 [==============================] - 0s 5ms/step - loss: 1.2822 - accuracy: 0.4917 - val_loss: 0.9292 - val_accuracy: 0.7353\n",
      "Epoch 23/1000\n",
      "41/42 [============================>.] - ETA: 0s - loss: 1.2790 - accuracy: 0.5046\n",
      "Epoch 23: saving model to model/keypoint_classifier\\keypoint_classifier.hdf5\n",
      "42/42 [==============================] - 0s 4ms/step - loss: 1.2774 - accuracy: 0.5050 - val_loss: 0.9111 - val_accuracy: 0.7490\n",
      "Epoch 24/1000\n",
      "40/42 [===========================>..] - ETA: 0s - loss: 1.2573 - accuracy: 0.5203\n",
      "Epoch 24: saving model to model/keypoint_classifier\\keypoint_classifier.hdf5\n",
      "42/42 [==============================] - 0s 5ms/step - loss: 1.2574 - accuracy: 0.5213 - val_loss: 0.8959 - val_accuracy: 0.7524\n",
      "Epoch 25/1000\n",
      "37/42 [=========================>....] - ETA: 0s - loss: 1.2422 - accuracy: 0.5247\n",
      "Epoch 25: saving model to model/keypoint_classifier\\keypoint_classifier.hdf5\n",
      "42/42 [==============================] - 0s 5ms/step - loss: 1.2411 - accuracy: 0.5242 - val_loss: 0.8831 - val_accuracy: 0.7541\n",
      "Epoch 26/1000\n",
      "41/42 [============================>.] - ETA: 0s - loss: 1.2309 - accuracy: 0.5333\n",
      "Epoch 26: saving model to model/keypoint_classifier\\keypoint_classifier.hdf5\n",
      "42/42 [==============================] - 0s 5ms/step - loss: 1.2300 - accuracy: 0.5342 - val_loss: 0.8656 - val_accuracy: 0.7638\n",
      "Epoch 27/1000\n",
      "33/42 [======================>.......] - ETA: 0s - loss: 1.2371 - accuracy: 0.5168\n",
      "Epoch 27: saving model to model/keypoint_classifier\\keypoint_classifier.hdf5\n",
      "42/42 [==============================] - 0s 5ms/step - loss: 1.2232 - accuracy: 0.5251 - val_loss: 0.8507 - val_accuracy: 0.7746\n",
      "Epoch 28/1000\n"
     ]
    },
    {
     "name": "stdout",
     "output_type": "stream",
     "text": [
      "37/42 [=========================>....] - ETA: 0s - loss: 1.2088 - accuracy: 0.5378\n",
      "Epoch 28: saving model to model/keypoint_classifier\\keypoint_classifier.hdf5\n",
      "42/42 [==============================] - 0s 5ms/step - loss: 1.2076 - accuracy: 0.5401 - val_loss: 0.8294 - val_accuracy: 0.7718\n",
      "Epoch 29/1000\n",
      "34/42 [=======================>......] - ETA: 0s - loss: 1.2154 - accuracy: 0.5386\n",
      "Epoch 29: saving model to model/keypoint_classifier\\keypoint_classifier.hdf5\n",
      "42/42 [==============================] - 0s 5ms/step - loss: 1.2165 - accuracy: 0.5397 - val_loss: 0.8247 - val_accuracy: 0.7860\n",
      "Epoch 30/1000\n",
      "36/42 [========================>.....] - ETA: 0s - loss: 1.1868 - accuracy: 0.5488\n",
      "Epoch 30: saving model to model/keypoint_classifier\\keypoint_classifier.hdf5\n",
      "42/42 [==============================] - 0s 5ms/step - loss: 1.1908 - accuracy: 0.5481 - val_loss: 0.8117 - val_accuracy: 0.7803\n",
      "Epoch 31/1000\n",
      "36/42 [========================>.....] - ETA: 0s - loss: 1.2089 - accuracy: 0.5404\n",
      "Epoch 31: saving model to model/keypoint_classifier\\keypoint_classifier.hdf5\n",
      "42/42 [==============================] - 0s 5ms/step - loss: 1.2071 - accuracy: 0.5396 - val_loss: 0.8076 - val_accuracy: 0.7917\n",
      "Epoch 32/1000\n",
      "31/42 [=====================>........] - ETA: 0s - loss: 1.1917 - accuracy: 0.5325\n",
      "Epoch 32: saving model to model/keypoint_classifier\\keypoint_classifier.hdf5\n",
      "42/42 [==============================] - 0s 5ms/step - loss: 1.1802 - accuracy: 0.5411 - val_loss: 0.7944 - val_accuracy: 0.8139\n",
      "Epoch 33/1000\n",
      "38/42 [==========================>...] - ETA: 0s - loss: 1.1661 - accuracy: 0.5569\n",
      "Epoch 33: saving model to model/keypoint_classifier\\keypoint_classifier.hdf5\n",
      "42/42 [==============================] - 0s 5ms/step - loss: 1.1699 - accuracy: 0.5545 - val_loss: 0.7858 - val_accuracy: 0.7980\n",
      "Epoch 34/1000\n",
      "34/42 [=======================>......] - ETA: 0s - loss: 1.1615 - accuracy: 0.5519\n",
      "Epoch 34: saving model to model/keypoint_classifier\\keypoint_classifier.hdf5\n",
      "42/42 [==============================] - 0s 4ms/step - loss: 1.1715 - accuracy: 0.5470 - val_loss: 0.7807 - val_accuracy: 0.8190\n",
      "Epoch 35/1000\n",
      "40/42 [===========================>..] - ETA: 0s - loss: 1.1513 - accuracy: 0.5604\n",
      "Epoch 35: saving model to model/keypoint_classifier\\keypoint_classifier.hdf5\n",
      "42/42 [==============================] - 0s 4ms/step - loss: 1.1500 - accuracy: 0.5618 - val_loss: 0.7660 - val_accuracy: 0.8361\n",
      "Epoch 36/1000\n",
      "22/42 [==============>...............] - ETA: 0s - loss: 1.1511 - accuracy: 0.5536\n",
      "Epoch 36: saving model to model/keypoint_classifier\\keypoint_classifier.hdf5\n",
      "42/42 [==============================] - 0s 4ms/step - loss: 1.1556 - accuracy: 0.5538 - val_loss: 0.7588 - val_accuracy: 0.8281\n",
      "Epoch 37/1000\n",
      "41/42 [============================>.] - ETA: 0s - loss: 1.1491 - accuracy: 0.5640\n",
      "Epoch 37: saving model to model/keypoint_classifier\\keypoint_classifier.hdf5\n",
      "42/42 [==============================] - 0s 4ms/step - loss: 1.1501 - accuracy: 0.5633 - val_loss: 0.7427 - val_accuracy: 0.8423\n",
      "Epoch 38/1000\n",
      "24/42 [================>.............] - ETA: 0s - loss: 1.1388 - accuracy: 0.5605\n",
      "Epoch 38: saving model to model/keypoint_classifier\\keypoint_classifier.hdf5\n",
      "42/42 [==============================] - 0s 4ms/step - loss: 1.1295 - accuracy: 0.5674 - val_loss: 0.7364 - val_accuracy: 0.8389\n",
      "Epoch 39/1000\n",
      "34/42 [=======================>......] - ETA: 0s - loss: 1.1166 - accuracy: 0.5705\n",
      "Epoch 39: saving model to model/keypoint_classifier\\keypoint_classifier.hdf5\n",
      "42/42 [==============================] - 0s 5ms/step - loss: 1.1265 - accuracy: 0.5684 - val_loss: 0.7338 - val_accuracy: 0.8418\n",
      "Epoch 40/1000\n",
      "40/42 [===========================>..] - ETA: 0s - loss: 1.1406 - accuracy: 0.5707\n",
      "Epoch 40: saving model to model/keypoint_classifier\\keypoint_classifier.hdf5\n",
      "42/42 [==============================] - 0s 4ms/step - loss: 1.1417 - accuracy: 0.5701 - val_loss: 0.7294 - val_accuracy: 0.8532\n",
      "Epoch 41/1000\n",
      "38/42 [==========================>...] - ETA: 0s - loss: 1.1147 - accuracy: 0.5787\n",
      "Epoch 41: saving model to model/keypoint_classifier\\keypoint_classifier.hdf5\n",
      "42/42 [==============================] - 0s 5ms/step - loss: 1.1225 - accuracy: 0.5779 - val_loss: 0.7205 - val_accuracy: 0.8486\n",
      "Epoch 42/1000\n",
      "41/42 [============================>.] - ETA: 0s - loss: 1.1076 - accuracy: 0.5810\n",
      "Epoch 42: saving model to model/keypoint_classifier\\keypoint_classifier.hdf5\n",
      "42/42 [==============================] - 0s 4ms/step - loss: 1.1084 - accuracy: 0.5809 - val_loss: 0.7108 - val_accuracy: 0.8486\n",
      "Epoch 43/1000\n",
      "33/42 [======================>.......] - ETA: 0s - loss: 1.0999 - accuracy: 0.5862\n",
      "Epoch 43: saving model to model/keypoint_classifier\\keypoint_classifier.hdf5\n",
      "42/42 [==============================] - 0s 6ms/step - loss: 1.1017 - accuracy: 0.5855 - val_loss: 0.7067 - val_accuracy: 0.8577\n",
      "Epoch 44/1000\n",
      "19/42 [============>.................] - ETA: 0s - loss: 1.1131 - accuracy: 0.5884\n",
      "Epoch 44: saving model to model/keypoint_classifier\\keypoint_classifier.hdf5\n",
      "42/42 [==============================] - 0s 5ms/step - loss: 1.1107 - accuracy: 0.5891 - val_loss: 0.7013 - val_accuracy: 0.8583\n",
      "Epoch 45/1000\n",
      "23/42 [===============>..............] - ETA: 0s - loss: 1.1205 - accuracy: 0.5846\n",
      "Epoch 45: saving model to model/keypoint_classifier\\keypoint_classifier.hdf5\n",
      "42/42 [==============================] - 0s 5ms/step - loss: 1.1140 - accuracy: 0.5803 - val_loss: 0.6948 - val_accuracy: 0.8543\n",
      "Epoch 46/1000\n",
      "40/42 [===========================>..] - ETA: 0s - loss: 1.1041 - accuracy: 0.5906\n",
      "Epoch 46: saving model to model/keypoint_classifier\\keypoint_classifier.hdf5\n",
      "42/42 [==============================] - 0s 5ms/step - loss: 1.1025 - accuracy: 0.5895 - val_loss: 0.6936 - val_accuracy: 0.8617\n",
      "Epoch 47/1000\n",
      "40/42 [===========================>..] - ETA: 0s - loss: 1.1245 - accuracy: 0.5793\n",
      "Epoch 47: saving model to model/keypoint_classifier\\keypoint_classifier.hdf5\n",
      "42/42 [==============================] - 0s 5ms/step - loss: 1.1222 - accuracy: 0.5809 - val_loss: 0.6829 - val_accuracy: 0.8577\n",
      "Epoch 48/1000\n",
      "41/42 [============================>.] - ETA: 0s - loss: 1.1002 - accuracy: 0.5899\n",
      "Epoch 48: saving model to model/keypoint_classifier\\keypoint_classifier.hdf5\n",
      "42/42 [==============================] - 0s 5ms/step - loss: 1.1000 - accuracy: 0.5902 - val_loss: 0.6827 - val_accuracy: 0.8594\n",
      "Epoch 49/1000\n",
      "34/42 [=======================>......] - ETA: 0s - loss: 1.0884 - accuracy: 0.5846\n",
      "Epoch 49: saving model to model/keypoint_classifier\\keypoint_classifier.hdf5\n",
      "42/42 [==============================] - 0s 5ms/step - loss: 1.0899 - accuracy: 0.5872 - val_loss: 0.6789 - val_accuracy: 0.8662\n",
      "Epoch 50/1000\n",
      "42/42 [==============================] - ETA: 0s - loss: 1.1030 - accuracy: 0.5864\n",
      "Epoch 50: saving model to model/keypoint_classifier\\keypoint_classifier.hdf5\n",
      "42/42 [==============================] - 0s 4ms/step - loss: 1.1030 - accuracy: 0.5864 - val_loss: 0.6751 - val_accuracy: 0.8628\n",
      "Epoch 51/1000\n",
      "37/42 [=========================>....] - ETA: 0s - loss: 1.0893 - accuracy: 0.5969\n",
      "Epoch 51: saving model to model/keypoint_classifier\\keypoint_classifier.hdf5\n",
      "42/42 [==============================] - 0s 5ms/step - loss: 1.0907 - accuracy: 0.5957 - val_loss: 0.6728 - val_accuracy: 0.8731\n",
      "Epoch 52/1000\n",
      "33/42 [======================>.......] - ETA: 0s - loss: 1.0697 - accuracy: 0.6098\n",
      "Epoch 52: saving model to model/keypoint_classifier\\keypoint_classifier.hdf5\n",
      "42/42 [==============================] - 0s 5ms/step - loss: 1.0684 - accuracy: 0.6080 - val_loss: 0.6621 - val_accuracy: 0.8680\n",
      "Epoch 53/1000\n",
      "22/42 [==============>...............] - ETA: 0s - loss: 1.0791 - accuracy: 0.5969\n",
      "Epoch 53: saving model to model/keypoint_classifier\\keypoint_classifier.hdf5\n",
      "42/42 [==============================] - 0s 5ms/step - loss: 1.0747 - accuracy: 0.5982 - val_loss: 0.6575 - val_accuracy: 0.8623\n",
      "Epoch 54/1000\n",
      "37/42 [=========================>....] - ETA: 0s - loss: 1.0590 - accuracy: 0.6062\n",
      "Epoch 54: saving model to model/keypoint_classifier\\keypoint_classifier.hdf5\n",
      "42/42 [==============================] - 0s 5ms/step - loss: 1.0573 - accuracy: 0.6075 - val_loss: 0.6497 - val_accuracy: 0.8714\n",
      "Epoch 55/1000\n"
     ]
    },
    {
     "name": "stdout",
     "output_type": "stream",
     "text": [
      "39/42 [==========================>...] - ETA: 0s - loss: 1.0611 - accuracy: 0.6148\n",
      "Epoch 55: saving model to model/keypoint_classifier\\keypoint_classifier.hdf5\n",
      "42/42 [==============================] - 0s 4ms/step - loss: 1.0604 - accuracy: 0.6141 - val_loss: 0.6411 - val_accuracy: 0.8708\n",
      "Epoch 56/1000\n",
      "41/42 [============================>.] - ETA: 0s - loss: 1.0624 - accuracy: 0.5949\n",
      "Epoch 56: saving model to model/keypoint_classifier\\keypoint_classifier.hdf5\n",
      "42/42 [==============================] - 0s 5ms/step - loss: 1.0618 - accuracy: 0.5946 - val_loss: 0.6397 - val_accuracy: 0.8776\n",
      "Epoch 57/1000\n",
      "35/42 [========================>.....] - ETA: 0s - loss: 1.0611 - accuracy: 0.6036\n",
      "Epoch 57: saving model to model/keypoint_classifier\\keypoint_classifier.hdf5\n",
      "42/42 [==============================] - 0s 5ms/step - loss: 1.0713 - accuracy: 0.6010 - val_loss: 0.6373 - val_accuracy: 0.8748\n",
      "Epoch 58/1000\n",
      "28/42 [===================>..........] - ETA: 0s - loss: 1.0506 - accuracy: 0.6136\n",
      "Epoch 58: saving model to model/keypoint_classifier\\keypoint_classifier.hdf5\n",
      "42/42 [==============================] - 0s 4ms/step - loss: 1.0522 - accuracy: 0.6092 - val_loss: 0.6291 - val_accuracy: 0.8776\n",
      "Epoch 59/1000\n",
      "39/42 [==========================>...] - ETA: 0s - loss: 1.0389 - accuracy: 0.6132\n",
      "Epoch 59: saving model to model/keypoint_classifier\\keypoint_classifier.hdf5\n",
      "42/42 [==============================] - 0s 5ms/step - loss: 1.0351 - accuracy: 0.6135 - val_loss: 0.6210 - val_accuracy: 0.8714\n",
      "Epoch 60/1000\n",
      "34/42 [=======================>......] - ETA: 0s - loss: 1.0388 - accuracy: 0.6108\n",
      "Epoch 60: saving model to model/keypoint_classifier\\keypoint_classifier.hdf5\n",
      "42/42 [==============================] - 0s 5ms/step - loss: 1.0407 - accuracy: 0.6098 - val_loss: 0.6158 - val_accuracy: 0.8793\n",
      "Epoch 61/1000\n",
      "40/42 [===========================>..] - ETA: 0s - loss: 1.0404 - accuracy: 0.6107\n",
      "Epoch 61: saving model to model/keypoint_classifier\\keypoint_classifier.hdf5\n",
      "42/42 [==============================] - 0s 5ms/step - loss: 1.0375 - accuracy: 0.6120 - val_loss: 0.6199 - val_accuracy: 0.8754\n",
      "Epoch 62/1000\n",
      "37/42 [=========================>....] - ETA: 0s - loss: 1.0386 - accuracy: 0.6151\n",
      "Epoch 62: saving model to model/keypoint_classifier\\keypoint_classifier.hdf5\n",
      "42/42 [==============================] - 0s 5ms/step - loss: 1.0366 - accuracy: 0.6147 - val_loss: 0.6169 - val_accuracy: 0.8742\n",
      "Epoch 63/1000\n",
      "35/42 [========================>.....] - ETA: 0s - loss: 1.0373 - accuracy: 0.6158\n",
      "Epoch 63: saving model to model/keypoint_classifier\\keypoint_classifier.hdf5\n",
      "42/42 [==============================] - 0s 5ms/step - loss: 1.0384 - accuracy: 0.6147 - val_loss: 0.6108 - val_accuracy: 0.8759\n",
      "Epoch 64/1000\n",
      "42/42 [==============================] - ETA: 0s - loss: 1.0318 - accuracy: 0.6228\n",
      "Epoch 64: saving model to model/keypoint_classifier\\keypoint_classifier.hdf5\n",
      "42/42 [==============================] - 0s 5ms/step - loss: 1.0318 - accuracy: 0.6228 - val_loss: 0.6030 - val_accuracy: 0.8771\n",
      "Epoch 65/1000\n",
      "42/42 [==============================] - ETA: 0s - loss: 1.0200 - accuracy: 0.6175\n",
      "Epoch 65: saving model to model/keypoint_classifier\\keypoint_classifier.hdf5\n",
      "42/42 [==============================] - 0s 5ms/step - loss: 1.0200 - accuracy: 0.6175 - val_loss: 0.5956 - val_accuracy: 0.8708\n",
      "Epoch 66/1000\n",
      "38/42 [==========================>...] - ETA: 0s - loss: 1.0379 - accuracy: 0.6055\n",
      "Epoch 66: saving model to model/keypoint_classifier\\keypoint_classifier.hdf5\n",
      "42/42 [==============================] - 0s 5ms/step - loss: 1.0321 - accuracy: 0.6092 - val_loss: 0.5890 - val_accuracy: 0.8816\n",
      "Epoch 67/1000\n",
      "42/42 [==============================] - ETA: 0s - loss: 1.0175 - accuracy: 0.6177\n",
      "Epoch 67: saving model to model/keypoint_classifier\\keypoint_classifier.hdf5\n",
      "42/42 [==============================] - 0s 4ms/step - loss: 1.0175 - accuracy: 0.6177 - val_loss: 0.5910 - val_accuracy: 0.8805\n",
      "Epoch 68/1000\n",
      "34/42 [=======================>......] - ETA: 0s - loss: 1.0201 - accuracy: 0.6190\n",
      "Epoch 68: saving model to model/keypoint_classifier\\keypoint_classifier.hdf5\n",
      "42/42 [==============================] - 0s 5ms/step - loss: 1.0277 - accuracy: 0.6204 - val_loss: 0.5956 - val_accuracy: 0.8748\n",
      "Epoch 69/1000\n",
      "25/42 [================>.............] - ETA: 0s - loss: 1.0081 - accuracy: 0.6313\n",
      "Epoch 69: saving model to model/keypoint_classifier\\keypoint_classifier.hdf5\n",
      "42/42 [==============================] - 0s 4ms/step - loss: 1.0156 - accuracy: 0.6287 - val_loss: 0.5858 - val_accuracy: 0.8822\n",
      "Epoch 70/1000\n",
      "41/42 [============================>.] - ETA: 0s - loss: 1.0269 - accuracy: 0.6189\n",
      "Epoch 70: saving model to model/keypoint_classifier\\keypoint_classifier.hdf5\n",
      "42/42 [==============================] - 0s 5ms/step - loss: 1.0269 - accuracy: 0.6185 - val_loss: 0.5881 - val_accuracy: 0.8788\n",
      "Epoch 71/1000\n",
      "37/42 [=========================>....] - ETA: 0s - loss: 1.0343 - accuracy: 0.6189\n",
      "Epoch 71: saving model to model/keypoint_classifier\\keypoint_classifier.hdf5\n",
      "42/42 [==============================] - 0s 5ms/step - loss: 1.0329 - accuracy: 0.6198 - val_loss: 0.5800 - val_accuracy: 0.8810\n",
      "Epoch 72/1000\n",
      "28/42 [===================>..........] - ETA: 0s - loss: 1.0117 - accuracy: 0.6303\n",
      "Epoch 72: saving model to model/keypoint_classifier\\keypoint_classifier.hdf5\n",
      "42/42 [==============================] - 0s 4ms/step - loss: 1.0055 - accuracy: 0.6301 - val_loss: 0.5711 - val_accuracy: 0.8867\n",
      "Epoch 73/1000\n",
      "20/42 [=============>................] - ETA: 0s - loss: 0.9966 - accuracy: 0.6348\n",
      "Epoch 73: saving model to model/keypoint_classifier\\keypoint_classifier.hdf5\n",
      "42/42 [==============================] - 0s 5ms/step - loss: 1.0017 - accuracy: 0.6361 - val_loss: 0.5687 - val_accuracy: 0.8828\n",
      "Epoch 74/1000\n",
      "32/42 [=====================>........] - ETA: 0s - loss: 1.0169 - accuracy: 0.6296\n",
      "Epoch 74: saving model to model/keypoint_classifier\\keypoint_classifier.hdf5\n",
      "42/42 [==============================] - 0s 5ms/step - loss: 1.0174 - accuracy: 0.6323 - val_loss: 0.5770 - val_accuracy: 0.8765\n",
      "Epoch 75/1000\n",
      "26/42 [=================>............] - ETA: 0s - loss: 1.0232 - accuracy: 0.6184\n",
      "Epoch 75: saving model to model/keypoint_classifier\\keypoint_classifier.hdf5\n",
      "42/42 [==============================] - 0s 4ms/step - loss: 1.0106 - accuracy: 0.6245 - val_loss: 0.5737 - val_accuracy: 0.8799\n",
      "Epoch 76/1000\n",
      "41/42 [============================>.] - ETA: 0s - loss: 0.9962 - accuracy: 0.6343\n",
      "Epoch 76: saving model to model/keypoint_classifier\\keypoint_classifier.hdf5\n",
      "42/42 [==============================] - 0s 4ms/step - loss: 0.9955 - accuracy: 0.6350 - val_loss: 0.5789 - val_accuracy: 0.8725\n",
      "Epoch 77/1000\n",
      "41/42 [============================>.] - ETA: 0s - loss: 1.0149 - accuracy: 0.6269\n",
      "Epoch 77: saving model to model/keypoint_classifier\\keypoint_classifier.hdf5\n",
      "42/42 [==============================] - 0s 5ms/step - loss: 1.0150 - accuracy: 0.6266 - val_loss: 0.5664 - val_accuracy: 0.8759\n",
      "Epoch 78/1000\n",
      "35/42 [========================>.....] - ETA: 0s - loss: 0.9895 - accuracy: 0.6417\n",
      "Epoch 78: saving model to model/keypoint_classifier\\keypoint_classifier.hdf5\n",
      "42/42 [==============================] - 0s 5ms/step - loss: 0.9836 - accuracy: 0.6448 - val_loss: 0.5664 - val_accuracy: 0.8719\n",
      "Epoch 79/1000\n",
      "41/42 [============================>.] - ETA: 0s - loss: 0.9969 - accuracy: 0.6280\n",
      "Epoch 79: saving model to model/keypoint_classifier\\keypoint_classifier.hdf5\n",
      "42/42 [==============================] - 0s 5ms/step - loss: 0.9963 - accuracy: 0.6285 - val_loss: 0.5594 - val_accuracy: 0.8822\n",
      "Epoch 80/1000\n",
      "24/42 [================>.............] - ETA: 0s - loss: 0.9951 - accuracy: 0.6364\n",
      "Epoch 80: saving model to model/keypoint_classifier\\keypoint_classifier.hdf5\n",
      "42/42 [==============================] - 0s 5ms/step - loss: 0.9812 - accuracy: 0.6462 - val_loss: 0.5557 - val_accuracy: 0.8816\n",
      "Epoch 81/1000\n",
      "23/42 [===============>..............] - ETA: 0s - loss: 1.0015 - accuracy: 0.6226\n",
      "Epoch 81: saving model to model/keypoint_classifier\\keypoint_classifier.hdf5\n",
      "42/42 [==============================] - 0s 4ms/step - loss: 0.9986 - accuracy: 0.6289 - val_loss: 0.5534 - val_accuracy: 0.8845\n",
      "Epoch 82/1000\n"
     ]
    },
    {
     "name": "stdout",
     "output_type": "stream",
     "text": [
      "25/42 [================>.............] - ETA: 0s - loss: 0.9984 - accuracy: 0.6269\n",
      "Epoch 82: saving model to model/keypoint_classifier\\keypoint_classifier.hdf5\n",
      "42/42 [==============================] - 0s 4ms/step - loss: 0.9921 - accuracy: 0.6291 - val_loss: 0.5544 - val_accuracy: 0.8845\n",
      "Epoch 83/1000\n",
      "23/42 [===============>..............] - ETA: 0s - loss: 0.9665 - accuracy: 0.6488\n",
      "Epoch 83: saving model to model/keypoint_classifier\\keypoint_classifier.hdf5\n",
      "42/42 [==============================] - 0s 4ms/step - loss: 0.9758 - accuracy: 0.6426 - val_loss: 0.5455 - val_accuracy: 0.8805\n",
      "Epoch 84/1000\n",
      "29/42 [===================>..........] - ETA: 0s - loss: 0.9602 - accuracy: 0.6517\n",
      "Epoch 84: saving model to model/keypoint_classifier\\keypoint_classifier.hdf5\n",
      "42/42 [==============================] - 0s 4ms/step - loss: 0.9804 - accuracy: 0.6448 - val_loss: 0.5417 - val_accuracy: 0.8873\n",
      "Epoch 85/1000\n",
      "34/42 [=======================>......] - ETA: 0s - loss: 0.9714 - accuracy: 0.6455\n",
      "Epoch 85: saving model to model/keypoint_classifier\\keypoint_classifier.hdf5\n",
      "42/42 [==============================] - 0s 5ms/step - loss: 0.9678 - accuracy: 0.6435 - val_loss: 0.5452 - val_accuracy: 0.8810\n",
      "Epoch 86/1000\n",
      "37/42 [=========================>....] - ETA: 0s - loss: 0.9843 - accuracy: 0.6349\n",
      "Epoch 86: saving model to model/keypoint_classifier\\keypoint_classifier.hdf5\n",
      "42/42 [==============================] - 0s 5ms/step - loss: 0.9782 - accuracy: 0.6380 - val_loss: 0.5461 - val_accuracy: 0.8828\n",
      "Epoch 87/1000\n",
      "39/42 [==========================>...] - ETA: 0s - loss: 0.9867 - accuracy: 0.6332\n",
      "Epoch 87: saving model to model/keypoint_classifier\\keypoint_classifier.hdf5\n",
      "42/42 [==============================] - 0s 5ms/step - loss: 0.9862 - accuracy: 0.6338 - val_loss: 0.5428 - val_accuracy: 0.8839\n",
      "Epoch 88/1000\n",
      "34/42 [=======================>......] - ETA: 0s - loss: 0.9812 - accuracy: 0.6455\n",
      "Epoch 88: saving model to model/keypoint_classifier\\keypoint_classifier.hdf5\n",
      "42/42 [==============================] - 0s 5ms/step - loss: 0.9759 - accuracy: 0.6454 - val_loss: 0.5397 - val_accuracy: 0.8839\n",
      "Epoch 89/1000\n",
      "25/42 [================>.............] - ETA: 0s - loss: 0.9832 - accuracy: 0.6353\n",
      "Epoch 89: saving model to model/keypoint_classifier\\keypoint_classifier.hdf5\n",
      "42/42 [==============================] - 0s 4ms/step - loss: 0.9854 - accuracy: 0.6373 - val_loss: 0.5458 - val_accuracy: 0.8793\n",
      "Epoch 90/1000\n",
      "36/42 [========================>.....] - ETA: 0s - loss: 0.9665 - accuracy: 0.6456\n",
      "Epoch 90: saving model to model/keypoint_classifier\\keypoint_classifier.hdf5\n",
      "42/42 [==============================] - 0s 5ms/step - loss: 0.9746 - accuracy: 0.6420 - val_loss: 0.5337 - val_accuracy: 0.8845\n",
      "Epoch 91/1000\n",
      "22/42 [==============>...............] - ETA: 0s - loss: 0.9715 - accuracy: 0.6420\n",
      "Epoch 91: saving model to model/keypoint_classifier\\keypoint_classifier.hdf5\n",
      "42/42 [==============================] - 0s 5ms/step - loss: 0.9898 - accuracy: 0.6397 - val_loss: 0.5378 - val_accuracy: 0.8828\n",
      "Epoch 92/1000\n",
      "23/42 [===============>..............] - ETA: 0s - loss: 0.9650 - accuracy: 0.6457\n",
      "Epoch 92: saving model to model/keypoint_classifier\\keypoint_classifier.hdf5\n",
      "42/42 [==============================] - 0s 4ms/step - loss: 0.9738 - accuracy: 0.6445 - val_loss: 0.5343 - val_accuracy: 0.8833\n",
      "Epoch 93/1000\n",
      "29/42 [===================>..........] - ETA: 0s - loss: 0.9732 - accuracy: 0.6344\n",
      "Epoch 93: saving model to model/keypoint_classifier\\keypoint_classifier.hdf5\n",
      "42/42 [==============================] - 0s 4ms/step - loss: 0.9753 - accuracy: 0.6380 - val_loss: 0.5296 - val_accuracy: 0.8788\n",
      "Epoch 94/1000\n",
      "36/42 [========================>.....] - ETA: 0s - loss: 0.9840 - accuracy: 0.6367\n",
      "Epoch 94: saving model to model/keypoint_classifier\\keypoint_classifier.hdf5\n",
      "42/42 [==============================] - 0s 5ms/step - loss: 0.9905 - accuracy: 0.6359 - val_loss: 0.5325 - val_accuracy: 0.8850\n",
      "Epoch 95/1000\n",
      "38/42 [==========================>...] - ETA: 0s - loss: 0.9862 - accuracy: 0.6377\n",
      "Epoch 95: saving model to model/keypoint_classifier\\keypoint_classifier.hdf5\n",
      "42/42 [==============================] - 0s 5ms/step - loss: 0.9860 - accuracy: 0.6376 - val_loss: 0.5290 - val_accuracy: 0.8782\n",
      "Epoch 96/1000\n",
      "38/42 [==========================>...] - ETA: 0s - loss: 0.9984 - accuracy: 0.6398\n",
      "Epoch 96: saving model to model/keypoint_classifier\\keypoint_classifier.hdf5\n",
      "42/42 [==============================] - 0s 4ms/step - loss: 0.9970 - accuracy: 0.6401 - val_loss: 0.5370 - val_accuracy: 0.8822\n",
      "Epoch 97/1000\n",
      "36/42 [========================>.....] - ETA: 0s - loss: 0.9488 - accuracy: 0.6543\n",
      "Epoch 97: saving model to model/keypoint_classifier\\keypoint_classifier.hdf5\n",
      "42/42 [==============================] - 0s 5ms/step - loss: 0.9480 - accuracy: 0.6559 - val_loss: 0.5358 - val_accuracy: 0.8782\n",
      "Epoch 98/1000\n",
      "37/42 [=========================>....] - ETA: 0s - loss: 0.9812 - accuracy: 0.6377\n",
      "Epoch 98: saving model to model/keypoint_classifier\\keypoint_classifier.hdf5\n",
      "42/42 [==============================] - 0s 5ms/step - loss: 0.9769 - accuracy: 0.6392 - val_loss: 0.5319 - val_accuracy: 0.8850\n",
      "Epoch 99/1000\n",
      "36/42 [========================>.....] - ETA: 0s - loss: 0.9653 - accuracy: 0.6406\n",
      "Epoch 99: saving model to model/keypoint_classifier\\keypoint_classifier.hdf5\n",
      "42/42 [==============================] - 0s 5ms/step - loss: 0.9685 - accuracy: 0.6363 - val_loss: 0.5305 - val_accuracy: 0.8765\n",
      "Epoch 100/1000\n",
      "36/42 [========================>.....] - ETA: 0s - loss: 0.9709 - accuracy: 0.6411\n",
      "Epoch 100: saving model to model/keypoint_classifier\\keypoint_classifier.hdf5\n",
      "42/42 [==============================] - 0s 5ms/step - loss: 0.9736 - accuracy: 0.6393 - val_loss: 0.5390 - val_accuracy: 0.8805\n",
      "Epoch 101/1000\n",
      "37/42 [=========================>....] - ETA: 0s - loss: 0.9926 - accuracy: 0.6347\n",
      "Epoch 101: saving model to model/keypoint_classifier\\keypoint_classifier.hdf5\n",
      "42/42 [==============================] - 0s 4ms/step - loss: 0.9929 - accuracy: 0.6344 - val_loss: 0.5325 - val_accuracy: 0.8839\n",
      "Epoch 102/1000\n",
      "22/42 [==============>...............] - ETA: 0s - loss: 0.9674 - accuracy: 0.6371\n",
      "Epoch 102: saving model to model/keypoint_classifier\\keypoint_classifier.hdf5\n",
      "42/42 [==============================] - 0s 4ms/step - loss: 0.9533 - accuracy: 0.6422 - val_loss: 0.5241 - val_accuracy: 0.8822\n",
      "Epoch 103/1000\n",
      "27/42 [==================>...........] - ETA: 0s - loss: 0.9493 - accuracy: 0.6554\n",
      "Epoch 103: saving model to model/keypoint_classifier\\keypoint_classifier.hdf5\n",
      "42/42 [==============================] - 0s 4ms/step - loss: 0.9446 - accuracy: 0.6536 - val_loss: 0.5119 - val_accuracy: 0.8845\n",
      "Epoch 104/1000\n",
      "22/42 [==============>...............] - ETA: 0s - loss: 0.9863 - accuracy: 0.6428\n",
      "Epoch 104: saving model to model/keypoint_classifier\\keypoint_classifier.hdf5\n",
      "42/42 [==============================] - 0s 4ms/step - loss: 0.9871 - accuracy: 0.6395 - val_loss: 0.5215 - val_accuracy: 0.8799\n",
      "Epoch 105/1000\n",
      "34/42 [=======================>......] - ETA: 0s - loss: 0.9529 - accuracy: 0.6544\n",
      "Epoch 105: saving model to model/keypoint_classifier\\keypoint_classifier.hdf5\n",
      "42/42 [==============================] - 0s 5ms/step - loss: 0.9482 - accuracy: 0.6604 - val_loss: 0.5223 - val_accuracy: 0.8828\n",
      "Epoch 106/1000\n",
      "40/42 [===========================>..] - ETA: 0s - loss: 0.9637 - accuracy: 0.6436\n",
      "Epoch 106: saving model to model/keypoint_classifier\\keypoint_classifier.hdf5\n",
      "42/42 [==============================] - 0s 5ms/step - loss: 0.9606 - accuracy: 0.6454 - val_loss: 0.5218 - val_accuracy: 0.8873\n",
      "Epoch 107/1000\n",
      "42/42 [==============================] - ETA: 0s - loss: 0.9515 - accuracy: 0.6496\n",
      "Epoch 107: saving model to model/keypoint_classifier\\keypoint_classifier.hdf5\n",
      "42/42 [==============================] - 0s 5ms/step - loss: 0.9515 - accuracy: 0.6496 - val_loss: 0.5151 - val_accuracy: 0.8833\n",
      "Epoch 108/1000\n",
      "40/42 [===========================>..] - ETA: 0s - loss: 0.9654 - accuracy: 0.6463\n",
      "Epoch 108: saving model to model/keypoint_classifier\\keypoint_classifier.hdf5\n",
      "42/42 [==============================] - 0s 5ms/step - loss: 0.9636 - accuracy: 0.6460 - val_loss: 0.5159 - val_accuracy: 0.8867\n",
      "Epoch 109/1000\n"
     ]
    },
    {
     "name": "stdout",
     "output_type": "stream",
     "text": [
      "34/42 [=======================>......] - ETA: 0s - loss: 0.9663 - accuracy: 0.6443\n",
      "Epoch 109: saving model to model/keypoint_classifier\\keypoint_classifier.hdf5\n",
      "42/42 [==============================] - 0s 5ms/step - loss: 0.9717 - accuracy: 0.6466 - val_loss: 0.5208 - val_accuracy: 0.8748\n",
      "Epoch 110/1000\n",
      "37/42 [=========================>....] - ETA: 0s - loss: 0.9290 - accuracy: 0.6552\n",
      "Epoch 110: saving model to model/keypoint_classifier\\keypoint_classifier.hdf5\n",
      "42/42 [==============================] - 0s 5ms/step - loss: 0.9297 - accuracy: 0.6557 - val_loss: 0.5074 - val_accuracy: 0.8879\n",
      "Epoch 111/1000\n",
      "41/42 [============================>.] - ETA: 0s - loss: 0.9623 - accuracy: 0.6423\n",
      "Epoch 111: saving model to model/keypoint_classifier\\keypoint_classifier.hdf5\n",
      "42/42 [==============================] - 0s 5ms/step - loss: 0.9621 - accuracy: 0.6428 - val_loss: 0.5147 - val_accuracy: 0.8754\n",
      "Epoch 112/1000\n",
      "42/42 [==============================] - ETA: 0s - loss: 0.9681 - accuracy: 0.6403\n",
      "Epoch 112: saving model to model/keypoint_classifier\\keypoint_classifier.hdf5\n",
      "42/42 [==============================] - 0s 5ms/step - loss: 0.9681 - accuracy: 0.6403 - val_loss: 0.5115 - val_accuracy: 0.8799\n",
      "Epoch 113/1000\n",
      "37/42 [=========================>....] - ETA: 0s - loss: 0.9632 - accuracy: 0.6356\n",
      "Epoch 113: saving model to model/keypoint_classifier\\keypoint_classifier.hdf5\n",
      "42/42 [==============================] - 0s 5ms/step - loss: 0.9623 - accuracy: 0.6365 - val_loss: 0.5065 - val_accuracy: 0.8856\n",
      "Epoch 114/1000\n",
      "24/42 [================>.............] - ETA: 0s - loss: 0.9274 - accuracy: 0.6647\n",
      "Epoch 114: saving model to model/keypoint_classifier\\keypoint_classifier.hdf5\n",
      "42/42 [==============================] - 0s 4ms/step - loss: 0.9544 - accuracy: 0.6504 - val_loss: 0.5039 - val_accuracy: 0.8890\n",
      "Epoch 115/1000\n",
      "38/42 [==========================>...] - ETA: 0s - loss: 0.9636 - accuracy: 0.6458\n",
      "Epoch 115: saving model to model/keypoint_classifier\\keypoint_classifier.hdf5\n",
      "42/42 [==============================] - 0s 5ms/step - loss: 0.9646 - accuracy: 0.6439 - val_loss: 0.5121 - val_accuracy: 0.8788\n",
      "Epoch 116/1000\n",
      "39/42 [==========================>...] - ETA: 0s - loss: 0.9525 - accuracy: 0.6492\n",
      "Epoch 116: saving model to model/keypoint_classifier\\keypoint_classifier.hdf5\n",
      "42/42 [==============================] - 0s 5ms/step - loss: 0.9560 - accuracy: 0.6511 - val_loss: 0.5146 - val_accuracy: 0.8822\n",
      "Epoch 117/1000\n",
      "31/42 [=====================>........] - ETA: 0s - loss: 0.9323 - accuracy: 0.6439\n",
      "Epoch 117: saving model to model/keypoint_classifier\\keypoint_classifier.hdf5\n",
      "42/42 [==============================] - 0s 5ms/step - loss: 0.9406 - accuracy: 0.6420 - val_loss: 0.5188 - val_accuracy: 0.8748\n",
      "Epoch 118/1000\n",
      "41/42 [============================>.] - ETA: 0s - loss: 0.9551 - accuracy: 0.6515\n",
      "Epoch 118: saving model to model/keypoint_classifier\\keypoint_classifier.hdf5\n",
      "42/42 [==============================] - 0s 5ms/step - loss: 0.9556 - accuracy: 0.6513 - val_loss: 0.5103 - val_accuracy: 0.8822\n",
      "Epoch 119/1000\n",
      "25/42 [================>.............] - ETA: 0s - loss: 0.9324 - accuracy: 0.6603\n",
      "Epoch 119: saving model to model/keypoint_classifier\\keypoint_classifier.hdf5\n",
      "42/42 [==============================] - 0s 5ms/step - loss: 0.9308 - accuracy: 0.6576 - val_loss: 0.5056 - val_accuracy: 0.8816\n",
      "Epoch 120/1000\n",
      "35/42 [========================>.....] - ETA: 0s - loss: 0.9444 - accuracy: 0.6509\n",
      "Epoch 120: saving model to model/keypoint_classifier\\keypoint_classifier.hdf5\n",
      "42/42 [==============================] - 0s 5ms/step - loss: 0.9450 - accuracy: 0.6502 - val_loss: 0.5009 - val_accuracy: 0.8867\n",
      "Epoch 121/1000\n",
      "39/42 [==========================>...] - ETA: 0s - loss: 0.9478 - accuracy: 0.6494\n",
      "Epoch 121: saving model to model/keypoint_classifier\\keypoint_classifier.hdf5\n",
      "42/42 [==============================] - 0s 4ms/step - loss: 0.9520 - accuracy: 0.6500 - val_loss: 0.5034 - val_accuracy: 0.8879\n",
      "Epoch 122/1000\n",
      "22/42 [==============>...............] - ETA: 0s - loss: 0.9535 - accuracy: 0.6506\n",
      "Epoch 122: saving model to model/keypoint_classifier\\keypoint_classifier.hdf5\n",
      "42/42 [==============================] - 0s 5ms/step - loss: 0.9577 - accuracy: 0.6515 - val_loss: 0.5004 - val_accuracy: 0.8867\n",
      "Epoch 123/1000\n",
      "38/42 [==========================>...] - ETA: 0s - loss: 0.9345 - accuracy: 0.6565\n",
      "Epoch 123: saving model to model/keypoint_classifier\\keypoint_classifier.hdf5\n",
      "42/42 [==============================] - 0s 4ms/step - loss: 0.9366 - accuracy: 0.6562 - val_loss: 0.5130 - val_accuracy: 0.8850\n",
      "Epoch 124/1000\n",
      "24/42 [================>.............] - ETA: 0s - loss: 0.9476 - accuracy: 0.6507\n",
      "Epoch 124: saving model to model/keypoint_classifier\\keypoint_classifier.hdf5\n",
      "42/42 [==============================] - 0s 4ms/step - loss: 0.9616 - accuracy: 0.6452 - val_loss: 0.5021 - val_accuracy: 0.8867\n",
      "Epoch 125/1000\n",
      "37/42 [=========================>....] - ETA: 0s - loss: 0.9514 - accuracy: 0.6478\n",
      "Epoch 125: saving model to model/keypoint_classifier\\keypoint_classifier.hdf5\n",
      "42/42 [==============================] - 0s 5ms/step - loss: 0.9520 - accuracy: 0.6490 - val_loss: 0.5009 - val_accuracy: 0.8839\n",
      "Epoch 126/1000\n",
      "28/42 [===================>..........] - ETA: 0s - loss: 0.9510 - accuracy: 0.6507\n",
      "Epoch 126: saving model to model/keypoint_classifier\\keypoint_classifier.hdf5\n",
      "42/42 [==============================] - 0s 4ms/step - loss: 0.9579 - accuracy: 0.6500 - val_loss: 0.5028 - val_accuracy: 0.8845\n",
      "Epoch 127/1000\n",
      "41/42 [============================>.] - ETA: 0s - loss: 0.9561 - accuracy: 0.6458\n",
      "Epoch 127: saving model to model/keypoint_classifier\\keypoint_classifier.hdf5\n",
      "42/42 [==============================] - 0s 5ms/step - loss: 0.9558 - accuracy: 0.6458 - val_loss: 0.5001 - val_accuracy: 0.8879\n",
      "Epoch 128/1000\n",
      "34/42 [=======================>......] - ETA: 0s - loss: 0.9388 - accuracy: 0.6496\n",
      "Epoch 128: saving model to model/keypoint_classifier\\keypoint_classifier.hdf5\n",
      "42/42 [==============================] - 0s 5ms/step - loss: 0.9425 - accuracy: 0.6477 - val_loss: 0.5017 - val_accuracy: 0.8810\n",
      "Epoch 129/1000\n",
      "36/42 [========================>.....] - ETA: 0s - loss: 0.9637 - accuracy: 0.6454\n",
      "Epoch 129: saving model to model/keypoint_classifier\\keypoint_classifier.hdf5\n",
      "42/42 [==============================] - 0s 6ms/step - loss: 0.9660 - accuracy: 0.6437 - val_loss: 0.5090 - val_accuracy: 0.8810\n",
      "Epoch 130/1000\n",
      "42/42 [==============================] - ETA: 0s - loss: 0.9555 - accuracy: 0.6553\n",
      "Epoch 130: saving model to model/keypoint_classifier\\keypoint_classifier.hdf5\n",
      "42/42 [==============================] - 0s 5ms/step - loss: 0.9555 - accuracy: 0.6553 - val_loss: 0.5022 - val_accuracy: 0.8805\n",
      "Epoch 131/1000\n",
      "38/42 [==========================>...] - ETA: 0s - loss: 0.9491 - accuracy: 0.6569\n",
      "Epoch 131: saving model to model/keypoint_classifier\\keypoint_classifier.hdf5\n",
      "42/42 [==============================] - 0s 4ms/step - loss: 0.9410 - accuracy: 0.6610 - val_loss: 0.5039 - val_accuracy: 0.8805\n",
      "Epoch 132/1000\n",
      "40/42 [===========================>..] - ETA: 0s - loss: 0.9382 - accuracy: 0.6539\n",
      "Epoch 132: saving model to model/keypoint_classifier\\keypoint_classifier.hdf5\n",
      "42/42 [==============================] - 0s 4ms/step - loss: 0.9384 - accuracy: 0.6534 - val_loss: 0.4989 - val_accuracy: 0.8839\n",
      "Epoch 133/1000\n",
      "25/42 [================>.............] - ETA: 0s - loss: 0.9468 - accuracy: 0.6625\n",
      "Epoch 133: saving model to model/keypoint_classifier\\keypoint_classifier.hdf5\n",
      "42/42 [==============================] - 0s 4ms/step - loss: 0.9559 - accuracy: 0.6545 - val_loss: 0.5065 - val_accuracy: 0.8771\n",
      "Epoch 134/1000\n",
      "41/42 [============================>.] - ETA: 0s - loss: 0.9645 - accuracy: 0.6456\n",
      "Epoch 134: saving model to model/keypoint_classifier\\keypoint_classifier.hdf5\n",
      "42/42 [==============================] - 0s 4ms/step - loss: 0.9643 - accuracy: 0.6454 - val_loss: 0.5013 - val_accuracy: 0.8873\n",
      "Epoch 135/1000\n",
      "38/42 [==========================>...] - ETA: 0s - loss: 0.9615 - accuracy: 0.6458\n",
      "Epoch 135: saving model to model/keypoint_classifier\\keypoint_classifier.hdf5\n",
      "42/42 [==============================] - 0s 4ms/step - loss: 0.9570 - accuracy: 0.6496 - val_loss: 0.5029 - val_accuracy: 0.8850\n"
     ]
    },
    {
     "name": "stdout",
     "output_type": "stream",
     "text": [
      "Epoch 136/1000\n",
      "36/42 [========================>.....] - ETA: 0s - loss: 0.9549 - accuracy: 0.6487\n",
      "Epoch 136: saving model to model/keypoint_classifier\\keypoint_classifier.hdf5\n",
      "42/42 [==============================] - 0s 5ms/step - loss: 0.9480 - accuracy: 0.6488 - val_loss: 0.5014 - val_accuracy: 0.8793\n",
      "Epoch 137/1000\n",
      "38/42 [==========================>...] - ETA: 0s - loss: 0.9351 - accuracy: 0.6513\n",
      "Epoch 137: saving model to model/keypoint_classifier\\keypoint_classifier.hdf5\n",
      "42/42 [==============================] - 0s 5ms/step - loss: 0.9330 - accuracy: 0.6530 - val_loss: 0.5039 - val_accuracy: 0.8782\n",
      "Epoch 138/1000\n",
      "24/42 [================>.............] - ETA: 0s - loss: 0.9277 - accuracy: 0.6615\n",
      "Epoch 138: saving model to model/keypoint_classifier\\keypoint_classifier.hdf5\n",
      "42/42 [==============================] - 0s 4ms/step - loss: 0.9308 - accuracy: 0.6642 - val_loss: 0.4935 - val_accuracy: 0.8788\n",
      "Epoch 139/1000\n",
      "26/42 [=================>............] - ETA: 0s - loss: 0.9264 - accuracy: 0.6638\n",
      "Epoch 139: saving model to model/keypoint_classifier\\keypoint_classifier.hdf5\n",
      "42/42 [==============================] - 0s 4ms/step - loss: 0.9359 - accuracy: 0.6568 - val_loss: 0.4929 - val_accuracy: 0.8839\n",
      "Epoch 140/1000\n",
      "24/42 [================>.............] - ETA: 0s - loss: 0.9503 - accuracy: 0.6449\n",
      "Epoch 140: saving model to model/keypoint_classifier\\keypoint_classifier.hdf5\n",
      "42/42 [==============================] - 0s 4ms/step - loss: 0.9509 - accuracy: 0.6511 - val_loss: 0.5041 - val_accuracy: 0.8759\n",
      "Epoch 141/1000\n",
      "36/42 [========================>.....] - ETA: 0s - loss: 0.9509 - accuracy: 0.6519\n",
      "Epoch 141: saving model to model/keypoint_classifier\\keypoint_classifier.hdf5\n",
      "42/42 [==============================] - 0s 5ms/step - loss: 0.9550 - accuracy: 0.6536 - val_loss: 0.4976 - val_accuracy: 0.8833\n",
      "Epoch 142/1000\n",
      "29/42 [===================>..........] - ETA: 0s - loss: 0.9289 - accuracy: 0.6627\n",
      "Epoch 142: saving model to model/keypoint_classifier\\keypoint_classifier.hdf5\n",
      "42/42 [==============================] - 0s 4ms/step - loss: 0.9276 - accuracy: 0.6629 - val_loss: 0.5033 - val_accuracy: 0.8788\n",
      "Epoch 143/1000\n",
      "28/42 [===================>..........] - ETA: 0s - loss: 0.9347 - accuracy: 0.6560\n",
      "Epoch 143: saving model to model/keypoint_classifier\\keypoint_classifier.hdf5\n",
      "42/42 [==============================] - 0s 4ms/step - loss: 0.9340 - accuracy: 0.6543 - val_loss: 0.5057 - val_accuracy: 0.8765\n",
      "Epoch 144/1000\n",
      "26/42 [=================>............] - ETA: 0s - loss: 0.9341 - accuracy: 0.6553\n",
      "Epoch 144: saving model to model/keypoint_classifier\\keypoint_classifier.hdf5\n",
      "42/42 [==============================] - 0s 4ms/step - loss: 0.9495 - accuracy: 0.6500 - val_loss: 0.4892 - val_accuracy: 0.8839\n",
      "Epoch 145/1000\n",
      "39/42 [==========================>...] - ETA: 0s - loss: 0.9494 - accuracy: 0.6492\n",
      "Epoch 145: saving model to model/keypoint_classifier\\keypoint_classifier.hdf5\n",
      "42/42 [==============================] - 0s 5ms/step - loss: 0.9467 - accuracy: 0.6513 - val_loss: 0.4880 - val_accuracy: 0.8873\n",
      "Epoch 146/1000\n",
      "42/42 [==============================] - ETA: 0s - loss: 0.9332 - accuracy: 0.6498\n",
      "Epoch 146: saving model to model/keypoint_classifier\\keypoint_classifier.hdf5\n",
      "42/42 [==============================] - 0s 5ms/step - loss: 0.9332 - accuracy: 0.6498 - val_loss: 0.4897 - val_accuracy: 0.8833\n",
      "Epoch 147/1000\n",
      "39/42 [==========================>...] - ETA: 0s - loss: 0.9174 - accuracy: 0.6651\n",
      "Epoch 147: saving model to model/keypoint_classifier\\keypoint_classifier.hdf5\n",
      "42/42 [==============================] - 0s 5ms/step - loss: 0.9222 - accuracy: 0.6669 - val_loss: 0.4939 - val_accuracy: 0.8782\n",
      "Epoch 148/1000\n",
      "22/42 [==============>...............] - ETA: 0s - loss: 0.9280 - accuracy: 0.6516\n",
      "Epoch 148: saving model to model/keypoint_classifier\\keypoint_classifier.hdf5\n",
      "42/42 [==============================] - 0s 4ms/step - loss: 0.9281 - accuracy: 0.6577 - val_loss: 0.4955 - val_accuracy: 0.8805\n",
      "Epoch 149/1000\n",
      "40/42 [===========================>..] - ETA: 0s - loss: 0.9464 - accuracy: 0.6541\n",
      "Epoch 149: saving model to model/keypoint_classifier\\keypoint_classifier.hdf5\n",
      "42/42 [==============================] - 0s 5ms/step - loss: 0.9437 - accuracy: 0.6559 - val_loss: 0.4907 - val_accuracy: 0.8896\n",
      "Epoch 150/1000\n",
      "39/42 [==========================>...] - ETA: 0s - loss: 0.9445 - accuracy: 0.6460\n",
      "Epoch 150: saving model to model/keypoint_classifier\\keypoint_classifier.hdf5\n",
      "42/42 [==============================] - 0s 5ms/step - loss: 0.9428 - accuracy: 0.6475 - val_loss: 0.4924 - val_accuracy: 0.8845\n",
      "Epoch 151/1000\n",
      "38/42 [==========================>...] - ETA: 0s - loss: 0.9415 - accuracy: 0.6575\n",
      "Epoch 151: saving model to model/keypoint_classifier\\keypoint_classifier.hdf5\n",
      "42/42 [==============================] - 0s 5ms/step - loss: 0.9373 - accuracy: 0.6574 - val_loss: 0.4898 - val_accuracy: 0.8805\n",
      "Epoch 152/1000\n",
      "40/42 [===========================>..] - ETA: 0s - loss: 0.9416 - accuracy: 0.6553\n",
      "Epoch 152: saving model to model/keypoint_classifier\\keypoint_classifier.hdf5\n",
      "42/42 [==============================] - 0s 4ms/step - loss: 0.9424 - accuracy: 0.6538 - val_loss: 0.4919 - val_accuracy: 0.8799\n",
      "Epoch 153/1000\n",
      "40/42 [===========================>..] - ETA: 0s - loss: 0.9560 - accuracy: 0.6518\n",
      "Epoch 153: saving model to model/keypoint_classifier\\keypoint_classifier.hdf5\n",
      "42/42 [==============================] - 0s 5ms/step - loss: 0.9577 - accuracy: 0.6528 - val_loss: 0.4924 - val_accuracy: 0.8828\n",
      "Epoch 154/1000\n",
      "42/42 [==============================] - ETA: 0s - loss: 0.9275 - accuracy: 0.6566\n",
      "Epoch 154: saving model to model/keypoint_classifier\\keypoint_classifier.hdf5\n",
      "42/42 [==============================] - 0s 4ms/step - loss: 0.9275 - accuracy: 0.6566 - val_loss: 0.4936 - val_accuracy: 0.8810\n",
      "Epoch 155/1000\n",
      "36/42 [========================>.....] - ETA: 0s - loss: 0.9252 - accuracy: 0.6615\n",
      "Epoch 155: saving model to model/keypoint_classifier\\keypoint_classifier.hdf5\n",
      "42/42 [==============================] - 0s 5ms/step - loss: 0.9270 - accuracy: 0.6598 - val_loss: 0.4862 - val_accuracy: 0.8850\n",
      "Epoch 156/1000\n",
      "24/42 [================>.............] - ETA: 0s - loss: 0.9131 - accuracy: 0.6589\n",
      "Epoch 156: saving model to model/keypoint_classifier\\keypoint_classifier.hdf5\n",
      "42/42 [==============================] - 0s 4ms/step - loss: 0.9257 - accuracy: 0.6566 - val_loss: 0.4870 - val_accuracy: 0.8799\n",
      "Epoch 157/1000\n",
      "24/42 [================>.............] - ETA: 0s - loss: 0.9254 - accuracy: 0.6543\n",
      "Epoch 157: saving model to model/keypoint_classifier\\keypoint_classifier.hdf5\n",
      "42/42 [==============================] - 0s 5ms/step - loss: 0.9191 - accuracy: 0.6604 - val_loss: 0.4917 - val_accuracy: 0.8850\n",
      "Epoch 158/1000\n",
      "37/42 [=========================>....] - ETA: 0s - loss: 0.9366 - accuracy: 0.6586\n",
      "Epoch 158: saving model to model/keypoint_classifier\\keypoint_classifier.hdf5\n",
      "42/42 [==============================] - 0s 5ms/step - loss: 0.9349 - accuracy: 0.6570 - val_loss: 0.4874 - val_accuracy: 0.8890\n",
      "Epoch 159/1000\n",
      "20/42 [=============>................] - ETA: 0s - loss: 0.9155 - accuracy: 0.6660\n",
      "Epoch 159: saving model to model/keypoint_classifier\\keypoint_classifier.hdf5\n",
      "42/42 [==============================] - 0s 4ms/step - loss: 0.9230 - accuracy: 0.6608 - val_loss: 0.4861 - val_accuracy: 0.8890\n",
      "Epoch 160/1000\n",
      "40/42 [===========================>..] - ETA: 0s - loss: 0.9094 - accuracy: 0.6646\n",
      "Epoch 160: saving model to model/keypoint_classifier\\keypoint_classifier.hdf5\n",
      "42/42 [==============================] - 0s 5ms/step - loss: 0.9141 - accuracy: 0.6640 - val_loss: 0.4973 - val_accuracy: 0.8816\n",
      "Epoch 161/1000\n",
      "39/42 [==========================>...] - ETA: 0s - loss: 0.9066 - accuracy: 0.6715\n",
      "Epoch 161: saving model to model/keypoint_classifier\\keypoint_classifier.hdf5\n",
      "42/42 [==============================] - 0s 4ms/step - loss: 0.9168 - accuracy: 0.6682 - val_loss: 0.4941 - val_accuracy: 0.8810\n",
      "Epoch 162/1000\n",
      "39/42 [==========================>...] - ETA: 0s - loss: 0.9325 - accuracy: 0.6530\n",
      "Epoch 162: saving model to model/keypoint_classifier\\keypoint_classifier.hdf5\n",
      "42/42 [==============================] - 0s 5ms/step - loss: 0.9364 - accuracy: 0.6524 - val_loss: 0.4904 - val_accuracy: 0.8884\n"
     ]
    },
    {
     "name": "stdout",
     "output_type": "stream",
     "text": [
      "Epoch 163/1000\n",
      "23/42 [===============>..............] - ETA: 0s - loss: 0.9241 - accuracy: 0.6457\n",
      "Epoch 163: saving model to model/keypoint_classifier\\keypoint_classifier.hdf5\n",
      "42/42 [==============================] - 0s 5ms/step - loss: 0.9386 - accuracy: 0.6452 - val_loss: 0.4874 - val_accuracy: 0.8867\n",
      "Epoch 164/1000\n",
      "37/42 [=========================>....] - ETA: 0s - loss: 0.9282 - accuracy: 0.6562\n",
      "Epoch 164: saving model to model/keypoint_classifier\\keypoint_classifier.hdf5\n",
      "42/42 [==============================] - 0s 5ms/step - loss: 0.9302 - accuracy: 0.6568 - val_loss: 0.4831 - val_accuracy: 0.8884\n",
      "Epoch 165/1000\n",
      "37/42 [=========================>....] - ETA: 0s - loss: 0.9214 - accuracy: 0.6562\n",
      "Epoch 165: saving model to model/keypoint_classifier\\keypoint_classifier.hdf5\n",
      "42/42 [==============================] - 0s 5ms/step - loss: 0.9204 - accuracy: 0.6574 - val_loss: 0.4845 - val_accuracy: 0.8845\n",
      "Epoch 166/1000\n",
      "32/42 [=====================>........] - ETA: 0s - loss: 0.9143 - accuracy: 0.6570\n",
      "Epoch 166: saving model to model/keypoint_classifier\\keypoint_classifier.hdf5\n",
      "42/42 [==============================] - 0s 6ms/step - loss: 0.9286 - accuracy: 0.6559 - val_loss: 0.4767 - val_accuracy: 0.8896\n",
      "Epoch 167/1000\n",
      "37/42 [=========================>....] - ETA: 0s - loss: 0.9299 - accuracy: 0.6554\n",
      "Epoch 167: saving model to model/keypoint_classifier\\keypoint_classifier.hdf5\n",
      "42/42 [==============================] - 0s 5ms/step - loss: 0.9319 - accuracy: 0.6528 - val_loss: 0.4892 - val_accuracy: 0.8782\n",
      "Epoch 168/1000\n",
      "38/42 [==========================>...] - ETA: 0s - loss: 0.9284 - accuracy: 0.6577\n",
      "Epoch 168: saving model to model/keypoint_classifier\\keypoint_classifier.hdf5\n",
      "42/42 [==============================] - 0s 5ms/step - loss: 0.9332 - accuracy: 0.6572 - val_loss: 0.4781 - val_accuracy: 0.8782\n",
      "Epoch 169/1000\n",
      "41/42 [============================>.] - ETA: 0s - loss: 0.9379 - accuracy: 0.6515\n",
      "Epoch 169: saving model to model/keypoint_classifier\\keypoint_classifier.hdf5\n",
      "42/42 [==============================] - 0s 4ms/step - loss: 0.9373 - accuracy: 0.6515 - val_loss: 0.4874 - val_accuracy: 0.8793\n",
      "Epoch 170/1000\n",
      "23/42 [===============>..............] - ETA: 0s - loss: 0.9162 - accuracy: 0.6617\n",
      "Epoch 170: saving model to model/keypoint_classifier\\keypoint_classifier.hdf5\n",
      "42/42 [==============================] - 0s 4ms/step - loss: 0.9275 - accuracy: 0.6589 - val_loss: 0.4788 - val_accuracy: 0.8850\n",
      "Epoch 171/1000\n",
      "40/42 [===========================>..] - ETA: 0s - loss: 0.9396 - accuracy: 0.6537\n",
      "Epoch 171: saving model to model/keypoint_classifier\\keypoint_classifier.hdf5\n",
      "42/42 [==============================] - 0s 5ms/step - loss: 0.9401 - accuracy: 0.6545 - val_loss: 0.4801 - val_accuracy: 0.8856\n",
      "Epoch 172/1000\n",
      "38/42 [==========================>...] - ETA: 0s - loss: 0.9207 - accuracy: 0.6684\n",
      "Epoch 172: saving model to model/keypoint_classifier\\keypoint_classifier.hdf5\n",
      "42/42 [==============================] - 0s 5ms/step - loss: 0.9215 - accuracy: 0.6686 - val_loss: 0.4746 - val_accuracy: 0.8907\n",
      "Epoch 173/1000\n",
      "36/42 [========================>.....] - ETA: 0s - loss: 0.9299 - accuracy: 0.6658\n",
      "Epoch 173: saving model to model/keypoint_classifier\\keypoint_classifier.hdf5\n",
      "42/42 [==============================] - 0s 5ms/step - loss: 0.9386 - accuracy: 0.6606 - val_loss: 0.4779 - val_accuracy: 0.8850\n",
      "Epoch 174/1000\n",
      "22/42 [==============>...............] - ETA: 0s - loss: 0.9387 - accuracy: 0.6594\n",
      "Epoch 174: saving model to model/keypoint_classifier\\keypoint_classifier.hdf5\n",
      "42/42 [==============================] - 0s 4ms/step - loss: 0.9368 - accuracy: 0.6530 - val_loss: 0.4753 - val_accuracy: 0.8833\n",
      "Epoch 175/1000\n",
      "39/42 [==========================>...] - ETA: 0s - loss: 0.9353 - accuracy: 0.6560\n",
      "Epoch 175: saving model to model/keypoint_classifier\\keypoint_classifier.hdf5\n",
      "42/42 [==============================] - 0s 5ms/step - loss: 0.9337 - accuracy: 0.6579 - val_loss: 0.4825 - val_accuracy: 0.8907\n",
      "Epoch 176/1000\n",
      "23/42 [===============>..............] - ETA: 0s - loss: 0.9271 - accuracy: 0.6664\n",
      "Epoch 176: saving model to model/keypoint_classifier\\keypoint_classifier.hdf5\n",
      "42/42 [==============================] - 0s 4ms/step - loss: 0.9242 - accuracy: 0.6667 - val_loss: 0.4767 - val_accuracy: 0.8867\n",
      "Epoch 177/1000\n",
      "36/42 [========================>.....] - ETA: 0s - loss: 0.9212 - accuracy: 0.6682\n",
      "Epoch 177: saving model to model/keypoint_classifier\\keypoint_classifier.hdf5\n",
      "42/42 [==============================] - 0s 5ms/step - loss: 0.9253 - accuracy: 0.6689 - val_loss: 0.4877 - val_accuracy: 0.8839\n",
      "Epoch 178/1000\n",
      "22/42 [==============>...............] - ETA: 0s - loss: 0.9257 - accuracy: 0.6612\n",
      "Epoch 178: saving model to model/keypoint_classifier\\keypoint_classifier.hdf5\n",
      "42/42 [==============================] - 0s 4ms/step - loss: 0.9486 - accuracy: 0.6564 - val_loss: 0.4970 - val_accuracy: 0.8822\n",
      "Epoch 179/1000\n",
      "41/42 [============================>.] - ETA: 0s - loss: 0.9376 - accuracy: 0.6536\n",
      "Epoch 179: saving model to model/keypoint_classifier\\keypoint_classifier.hdf5\n",
      "42/42 [==============================] - 0s 5ms/step - loss: 0.9363 - accuracy: 0.6538 - val_loss: 0.4891 - val_accuracy: 0.8867\n",
      "Epoch 180/1000\n",
      "23/42 [===============>..............] - ETA: 0s - loss: 0.9139 - accuracy: 0.6627\n",
      "Epoch 180: saving model to model/keypoint_classifier\\keypoint_classifier.hdf5\n",
      "42/42 [==============================] - 0s 4ms/step - loss: 0.9332 - accuracy: 0.6591 - val_loss: 0.4738 - val_accuracy: 0.8879\n",
      "Epoch 181/1000\n",
      "33/42 [======================>.......] - ETA: 0s - loss: 0.9280 - accuracy: 0.6591\n",
      "Epoch 181: saving model to model/keypoint_classifier\\keypoint_classifier.hdf5\n",
      "42/42 [==============================] - 0s 5ms/step - loss: 0.9421 - accuracy: 0.6517 - val_loss: 0.4881 - val_accuracy: 0.8884\n",
      "Epoch 182/1000\n",
      "38/42 [==========================>...] - ETA: 0s - loss: 0.9402 - accuracy: 0.6585\n",
      "Epoch 182: saving model to model/keypoint_classifier\\keypoint_classifier.hdf5\n",
      "42/42 [==============================] - 0s 5ms/step - loss: 0.9379 - accuracy: 0.6574 - val_loss: 0.4860 - val_accuracy: 0.8862\n",
      "Epoch 183/1000\n",
      "40/42 [===========================>..] - ETA: 0s - loss: 0.9195 - accuracy: 0.6590\n",
      "Epoch 183: saving model to model/keypoint_classifier\\keypoint_classifier.hdf5\n",
      "42/42 [==============================] - 0s 5ms/step - loss: 0.9182 - accuracy: 0.6589 - val_loss: 0.4701 - val_accuracy: 0.8947\n",
      "Epoch 184/1000\n",
      "39/42 [==========================>...] - ETA: 0s - loss: 0.9462 - accuracy: 0.6589\n",
      "Epoch 184: saving model to model/keypoint_classifier\\keypoint_classifier.hdf5\n",
      "42/42 [==============================] - 0s 5ms/step - loss: 0.9507 - accuracy: 0.6560 - val_loss: 0.4876 - val_accuracy: 0.8907\n",
      "Epoch 185/1000\n",
      "41/42 [============================>.] - ETA: 0s - loss: 0.9155 - accuracy: 0.6683\n",
      "Epoch 185: saving model to model/keypoint_classifier\\keypoint_classifier.hdf5\n",
      "42/42 [==============================] - 0s 4ms/step - loss: 0.9163 - accuracy: 0.6670 - val_loss: 0.4838 - val_accuracy: 0.8839\n",
      "Epoch 186/1000\n",
      "22/42 [==============>...............] - ETA: 0s - loss: 0.9194 - accuracy: 0.6602\n",
      "Epoch 186: saving model to model/keypoint_classifier\\keypoint_classifier.hdf5\n",
      "42/42 [==============================] - 0s 4ms/step - loss: 0.9262 - accuracy: 0.6549 - val_loss: 0.4837 - val_accuracy: 0.8862\n",
      "Epoch 187/1000\n",
      "23/42 [===============>..............] - ETA: 0s - loss: 0.9503 - accuracy: 0.6562\n",
      "Epoch 187: saving model to model/keypoint_classifier\\keypoint_classifier.hdf5\n",
      "42/42 [==============================] - 0s 4ms/step - loss: 0.9263 - accuracy: 0.6608 - val_loss: 0.4760 - val_accuracy: 0.8947\n",
      "Epoch 188/1000\n",
      "22/42 [==============>...............] - ETA: 0s - loss: 0.9110 - accuracy: 0.6559\n",
      "Epoch 188: saving model to model/keypoint_classifier\\keypoint_classifier.hdf5\n",
      "42/42 [==============================] - 0s 5ms/step - loss: 0.9323 - accuracy: 0.6500 - val_loss: 0.4826 - val_accuracy: 0.8856\n",
      "Epoch 189/1000\n",
      "39/42 [==========================>...] - ETA: 0s - loss: 0.9178 - accuracy: 0.6615\n",
      "Epoch 189: saving model to model/keypoint_classifier\\keypoint_classifier.hdf5\n",
      "42/42 [==============================] - 0s 4ms/step - loss: 0.9147 - accuracy: 0.6627 - val_loss: 0.4755 - val_accuracy: 0.8902\n"
     ]
    },
    {
     "name": "stdout",
     "output_type": "stream",
     "text": [
      "Epoch 190/1000\n",
      "28/42 [===================>..........] - ETA: 0s - loss: 0.9100 - accuracy: 0.6660\n",
      "Epoch 190: saving model to model/keypoint_classifier\\keypoint_classifier.hdf5\n",
      "42/42 [==============================] - 0s 4ms/step - loss: 0.9158 - accuracy: 0.6661 - val_loss: 0.4773 - val_accuracy: 0.8856\n",
      "Epoch 191/1000\n",
      "24/42 [================>.............] - ETA: 0s - loss: 0.9358 - accuracy: 0.6556\n",
      "Epoch 191: saving model to model/keypoint_classifier\\keypoint_classifier.hdf5\n",
      "42/42 [==============================] - 0s 4ms/step - loss: 0.9359 - accuracy: 0.6507 - val_loss: 0.4814 - val_accuracy: 0.8919\n",
      "Epoch 192/1000\n",
      "29/42 [===================>..........] - ETA: 0s - loss: 0.9278 - accuracy: 0.6595\n",
      "Epoch 192: saving model to model/keypoint_classifier\\keypoint_classifier.hdf5\n",
      "42/42 [==============================] - 0s 4ms/step - loss: 0.9301 - accuracy: 0.6543 - val_loss: 0.4856 - val_accuracy: 0.8930\n",
      "Epoch 193/1000\n",
      "22/42 [==============>...............] - ETA: 0s - loss: 0.9084 - accuracy: 0.6768\n",
      "Epoch 193: saving model to model/keypoint_classifier\\keypoint_classifier.hdf5\n",
      "42/42 [==============================] - 0s 4ms/step - loss: 0.9214 - accuracy: 0.6657 - val_loss: 0.4802 - val_accuracy: 0.8941\n",
      "Epoch 194/1000\n",
      "40/42 [===========================>..] - ETA: 0s - loss: 0.9110 - accuracy: 0.6621\n",
      "Epoch 194: saving model to model/keypoint_classifier\\keypoint_classifier.hdf5\n",
      "42/42 [==============================] - 0s 5ms/step - loss: 0.9086 - accuracy: 0.6619 - val_loss: 0.4733 - val_accuracy: 0.8896\n",
      "Epoch 195/1000\n",
      "28/42 [===================>..........] - ETA: 0s - loss: 0.9262 - accuracy: 0.6585\n",
      "Epoch 195: saving model to model/keypoint_classifier\\keypoint_classifier.hdf5\n",
      "42/42 [==============================] - 0s 4ms/step - loss: 0.9201 - accuracy: 0.6585 - val_loss: 0.4754 - val_accuracy: 0.8958\n",
      "Epoch 196/1000\n",
      "40/42 [===========================>..] - ETA: 0s - loss: 0.9168 - accuracy: 0.6682\n",
      "Epoch 196: saving model to model/keypoint_classifier\\keypoint_classifier.hdf5\n",
      "42/42 [==============================] - 0s 5ms/step - loss: 0.9209 - accuracy: 0.6661 - val_loss: 0.4707 - val_accuracy: 0.8993\n",
      "Epoch 197/1000\n",
      "24/42 [================>.............] - ETA: 0s - loss: 0.9466 - accuracy: 0.6566\n",
      "Epoch 197: saving model to model/keypoint_classifier\\keypoint_classifier.hdf5\n",
      "42/42 [==============================] - 0s 4ms/step - loss: 0.9306 - accuracy: 0.6625 - val_loss: 0.4698 - val_accuracy: 0.8958\n",
      "Epoch 198/1000\n",
      "22/42 [==============>...............] - ETA: 0s - loss: 0.9265 - accuracy: 0.6687\n",
      "Epoch 198: saving model to model/keypoint_classifier\\keypoint_classifier.hdf5\n",
      "42/42 [==============================] - 0s 5ms/step - loss: 0.9220 - accuracy: 0.6716 - val_loss: 0.4743 - val_accuracy: 0.8867\n",
      "Epoch 199/1000\n",
      "26/42 [=================>............] - ETA: 0s - loss: 0.9241 - accuracy: 0.6662\n",
      "Epoch 199: saving model to model/keypoint_classifier\\keypoint_classifier.hdf5\n",
      "42/42 [==============================] - 0s 4ms/step - loss: 0.9157 - accuracy: 0.6674 - val_loss: 0.4782 - val_accuracy: 0.8845\n",
      "Epoch 200/1000\n",
      "40/42 [===========================>..] - ETA: 0s - loss: 0.9012 - accuracy: 0.6691\n",
      "Epoch 200: saving model to model/keypoint_classifier\\keypoint_classifier.hdf5\n",
      "42/42 [==============================] - 0s 5ms/step - loss: 0.8986 - accuracy: 0.6714 - val_loss: 0.4692 - val_accuracy: 0.8913\n",
      "Epoch 201/1000\n",
      "40/42 [===========================>..] - ETA: 0s - loss: 0.9467 - accuracy: 0.6496\n",
      "Epoch 201: saving model to model/keypoint_classifier\\keypoint_classifier.hdf5\n",
      "42/42 [==============================] - 0s 5ms/step - loss: 0.9390 - accuracy: 0.6526 - val_loss: 0.4735 - val_accuracy: 0.8902\n",
      "Epoch 202/1000\n",
      "39/42 [==========================>...] - ETA: 0s - loss: 0.9141 - accuracy: 0.6677\n",
      "Epoch 202: saving model to model/keypoint_classifier\\keypoint_classifier.hdf5\n",
      "42/42 [==============================] - 0s 4ms/step - loss: 0.9162 - accuracy: 0.6663 - val_loss: 0.4771 - val_accuracy: 0.8884\n",
      "Epoch 203/1000\n",
      "35/42 [========================>.....] - ETA: 0s - loss: 0.9095 - accuracy: 0.6658\n",
      "Epoch 203: saving model to model/keypoint_classifier\\keypoint_classifier.hdf5\n",
      "42/42 [==============================] - 0s 5ms/step - loss: 0.9144 - accuracy: 0.6648 - val_loss: 0.4725 - val_accuracy: 0.8930\n",
      "Epoch 204/1000\n",
      "38/42 [==========================>...] - ETA: 0s - loss: 0.9045 - accuracy: 0.6700\n",
      "Epoch 204: saving model to model/keypoint_classifier\\keypoint_classifier.hdf5\n",
      "42/42 [==============================] - 0s 7ms/step - loss: 0.9005 - accuracy: 0.6695 - val_loss: 0.4653 - val_accuracy: 0.8970\n",
      "Epoch 205/1000\n",
      "34/42 [=======================>......] - ETA: 0s - loss: 0.9208 - accuracy: 0.6622\n",
      "Epoch 205: saving model to model/keypoint_classifier\\keypoint_classifier.hdf5\n",
      "42/42 [==============================] - 0s 6ms/step - loss: 0.9193 - accuracy: 0.6633 - val_loss: 0.4675 - val_accuracy: 0.8902\n",
      "Epoch 206/1000\n",
      "30/42 [====================>.........] - ETA: 0s - loss: 0.9044 - accuracy: 0.6659\n",
      "Epoch 206: saving model to model/keypoint_classifier\\keypoint_classifier.hdf5\n",
      "42/42 [==============================] - 0s 8ms/step - loss: 0.9090 - accuracy: 0.6661 - val_loss: 0.4718 - val_accuracy: 0.8845\n",
      "Epoch 207/1000\n",
      "37/42 [=========================>....] - ETA: 0s - loss: 0.9266 - accuracy: 0.6611\n",
      "Epoch 207: saving model to model/keypoint_classifier\\keypoint_classifier.hdf5\n",
      "42/42 [==============================] - 0s 7ms/step - loss: 0.9248 - accuracy: 0.6615 - val_loss: 0.4836 - val_accuracy: 0.8907\n",
      "Epoch 208/1000\n",
      "29/42 [===================>..........] - ETA: 0s - loss: 0.9114 - accuracy: 0.6705\n",
      "Epoch 208: saving model to model/keypoint_classifier\\keypoint_classifier.hdf5\n",
      "42/42 [==============================] - 0s 6ms/step - loss: 0.9116 - accuracy: 0.6686 - val_loss: 0.4766 - val_accuracy: 0.8930\n",
      "Epoch 209/1000\n",
      "34/42 [=======================>......] - ETA: 0s - loss: 0.9217 - accuracy: 0.6620\n",
      "Epoch 209: saving model to model/keypoint_classifier\\keypoint_classifier.hdf5\n",
      "42/42 [==============================] - 0s 5ms/step - loss: 0.9246 - accuracy: 0.6583 - val_loss: 0.4780 - val_accuracy: 0.8958\n",
      "Epoch 210/1000\n",
      "36/42 [========================>.....] - ETA: 0s - loss: 0.9021 - accuracy: 0.6706\n",
      "Epoch 210: saving model to model/keypoint_classifier\\keypoint_classifier.hdf5\n",
      "42/42 [==============================] - 0s 5ms/step - loss: 0.9068 - accuracy: 0.6670 - val_loss: 0.4664 - val_accuracy: 0.8936\n",
      "Epoch 211/1000\n",
      "23/42 [===============>..............] - ETA: 0s - loss: 0.9642 - accuracy: 0.6427\n",
      "Epoch 211: saving model to model/keypoint_classifier\\keypoint_classifier.hdf5\n",
      "42/42 [==============================] - 0s 4ms/step - loss: 0.9310 - accuracy: 0.6538 - val_loss: 0.4710 - val_accuracy: 0.8958\n",
      "Epoch 212/1000\n",
      "38/42 [==========================>...] - ETA: 0s - loss: 0.9067 - accuracy: 0.6634\n",
      "Epoch 212: saving model to model/keypoint_classifier\\keypoint_classifier.hdf5\n",
      "42/42 [==============================] - 0s 5ms/step - loss: 0.9016 - accuracy: 0.6651 - val_loss: 0.4745 - val_accuracy: 0.8993\n",
      "Epoch 213/1000\n",
      "40/42 [===========================>..] - ETA: 0s - loss: 0.9258 - accuracy: 0.6652\n",
      "Epoch 213: saving model to model/keypoint_classifier\\keypoint_classifier.hdf5\n",
      "42/42 [==============================] - 0s 5ms/step - loss: 0.9254 - accuracy: 0.6651 - val_loss: 0.4868 - val_accuracy: 0.8850\n",
      "Epoch 214/1000\n",
      "33/42 [======================>.......] - ETA: 0s - loss: 0.9170 - accuracy: 0.6589\n",
      "Epoch 214: saving model to model/keypoint_classifier\\keypoint_classifier.hdf5\n",
      "42/42 [==============================] - 0s 5ms/step - loss: 0.9075 - accuracy: 0.6636 - val_loss: 0.4710 - val_accuracy: 0.8936\n",
      "Epoch 215/1000\n",
      "22/42 [==============>...............] - ETA: 0s - loss: 0.9054 - accuracy: 0.6719\n",
      "Epoch 215: saving model to model/keypoint_classifier\\keypoint_classifier.hdf5\n",
      "42/42 [==============================] - 0s 4ms/step - loss: 0.9173 - accuracy: 0.6707 - val_loss: 0.4761 - val_accuracy: 0.8793\n",
      "Epoch 216/1000\n",
      "22/42 [==============>...............] - ETA: 0s - loss: 0.9458 - accuracy: 0.6555\n",
      "Epoch 216: saving model to model/keypoint_classifier\\keypoint_classifier.hdf5\n",
      "42/42 [==============================] - 0s 4ms/step - loss: 0.9262 - accuracy: 0.6591 - val_loss: 0.4806 - val_accuracy: 0.8953\n"
     ]
    },
    {
     "name": "stdout",
     "output_type": "stream",
     "text": [
      "Epoch 217/1000\n",
      "38/42 [==========================>...] - ETA: 0s - loss: 0.9232 - accuracy: 0.6694\n",
      "Epoch 217: saving model to model/keypoint_classifier\\keypoint_classifier.hdf5\n",
      "42/42 [==============================] - 0s 5ms/step - loss: 0.9203 - accuracy: 0.6710 - val_loss: 0.4733 - val_accuracy: 0.8867\n",
      "Epoch 218/1000\n",
      "32/42 [=====================>........] - ETA: 0s - loss: 0.9339 - accuracy: 0.6521\n",
      "Epoch 218: saving model to model/keypoint_classifier\\keypoint_classifier.hdf5\n",
      "42/42 [==============================] - 0s 6ms/step - loss: 0.9345 - accuracy: 0.6553 - val_loss: 0.4807 - val_accuracy: 0.8913\n",
      "Epoch 219/1000\n",
      "37/42 [=========================>....] - ETA: 0s - loss: 0.8948 - accuracy: 0.6660\n",
      "Epoch 219: saving model to model/keypoint_classifier\\keypoint_classifier.hdf5\n",
      "42/42 [==============================] - 0s 7ms/step - loss: 0.8993 - accuracy: 0.6678 - val_loss: 0.4715 - val_accuracy: 0.8884\n",
      "Epoch 220/1000\n",
      "38/42 [==========================>...] - ETA: 0s - loss: 0.9383 - accuracy: 0.6610\n",
      "Epoch 220: saving model to model/keypoint_classifier\\keypoint_classifier.hdf5\n",
      "42/42 [==============================] - 0s 7ms/step - loss: 0.9365 - accuracy: 0.6640 - val_loss: 0.4787 - val_accuracy: 0.8924\n",
      "Epoch 221/1000\n",
      "39/42 [==========================>...] - ETA: 0s - loss: 0.9361 - accuracy: 0.6597\n",
      "Epoch 221: saving model to model/keypoint_classifier\\keypoint_classifier.hdf5\n",
      "42/42 [==============================] - 0s 5ms/step - loss: 0.9365 - accuracy: 0.6595 - val_loss: 0.4745 - val_accuracy: 0.8919\n",
      "Epoch 222/1000\n",
      "23/42 [===============>..............] - ETA: 0s - loss: 0.9244 - accuracy: 0.6678\n",
      "Epoch 222: saving model to model/keypoint_classifier\\keypoint_classifier.hdf5\n",
      "42/42 [==============================] - 0s 4ms/step - loss: 0.9255 - accuracy: 0.6614 - val_loss: 0.4806 - val_accuracy: 0.8924\n",
      "Epoch 223/1000\n",
      "23/42 [===============>..............] - ETA: 0s - loss: 0.9524 - accuracy: 0.6661\n",
      "Epoch 223: saving model to model/keypoint_classifier\\keypoint_classifier.hdf5\n",
      "42/42 [==============================] - 0s 5ms/step - loss: 0.9316 - accuracy: 0.6691 - val_loss: 0.4818 - val_accuracy: 0.8930\n",
      "Epoch 224/1000\n",
      "23/42 [===============>..............] - ETA: 0s - loss: 0.9520 - accuracy: 0.6610\n",
      "Epoch 224: saving model to model/keypoint_classifier\\keypoint_classifier.hdf5\n",
      "42/42 [==============================] - 0s 5ms/step - loss: 0.9295 - accuracy: 0.6566 - val_loss: 0.4800 - val_accuracy: 0.8913\n",
      "Epoch 224: early stopping\n"
     ]
    },
    {
     "data": {
      "text/plain": [
       "<keras.callbacks.History at 0x2f1bd511a90>"
      ]
     },
     "execution_count": 11,
     "metadata": {},
     "output_type": "execute_result"
    }
   ],
   "source": [
    "model.fit(\n",
    "    X_train,\n",
    "    y_train,\n",
    "    epochs=1000,\n",
    "    batch_size=128,\n",
    "    validation_data=(X_test, y_test),\n",
    "    callbacks=[cp_callback, es_callback]\n",
    ")"
   ]
  },
  {
   "cell_type": "code",
   "execution_count": 12,
   "metadata": {
    "colab": {
     "base_uri": "https://localhost:8080/"
    },
    "id": "pxvb2Y299hE3",
    "outputId": "59eb3185-2e37-4b9e-bc9d-ab1b8ac29b7f"
   },
   "outputs": [
    {
     "name": "stdout",
     "output_type": "stream",
     "text": [
      "14/14 [==============================] - 0s 2ms/step - loss: 0.4800 - accuracy: 0.8913\n"
     ]
    }
   ],
   "source": [
    "# Model evaluation\n",
    "val_loss, val_acc = model.evaluate(X_test, y_test, batch_size=128)"
   ]
  },
  {
   "cell_type": "code",
   "execution_count": 13,
   "metadata": {
    "id": "RBkmDeUW9hE4"
   },
   "outputs": [],
   "source": [
    "# Loading the saved model\n",
    "model = tf.keras.models.load_model(model_save_path)"
   ]
  },
  {
   "cell_type": "code",
   "execution_count": 14,
   "metadata": {
    "colab": {
     "base_uri": "https://localhost:8080/"
    },
    "id": "tFz9Tb0I9hE4",
    "outputId": "1c3b3528-54ae-4ee2-ab04-77429211cbef"
   },
   "outputs": [
    {
     "name": "stdout",
     "output_type": "stream",
     "text": [
      "1/1 [==============================] - 0s 344ms/step\n",
      "[5.4147895e-02 1.8410400e-01 4.3902376e-01 3.3401299e-02 4.5697519e-08\n",
      " 2.1942973e-01 1.5647641e-04 2.4558820e-02 3.4328554e-02 9.3508037e-03\n",
      " 2.9707092e-04 1.2014655e-03 8.5951946e-08 2.7523660e-08]\n",
      "2\n"
     ]
    }
   ],
   "source": [
    "# Inference test\n",
    "predict_result = model.predict(np.array([X_test[0]]))\n",
    "print(np.squeeze(predict_result))\n",
    "print(np.argmax(np.squeeze(predict_result)))"
   ]
  },
  {
   "cell_type": "markdown",
   "metadata": {
    "id": "S3U4yNWx9hE4"
   },
   "source": [
    "# Confusion matrix"
   ]
  },
  {
   "cell_type": "code",
   "execution_count": 17,
   "metadata": {
    "colab": {
     "base_uri": "https://localhost:8080/",
     "height": 582
    },
    "id": "AP1V6SCk9hE5",
    "outputId": "08e41a80-7a4a-4619-8125-ecc371368d19"
   },
   "outputs": [
    {
     "name": "stdout",
     "output_type": "stream",
     "text": [
      "55/55 [==============================] - 0s 2ms/step\n"
     ]
    },
    {
     "data": {
      "image/png": "[encoded data removed]",
      "text/plain": [
       "<Figure size 700x600 with 2 Axes>"
      ]
     },
     "metadata": {},
     "output_type": "display_data"
    },
    {
     "name": "stdout",
     "output_type": "stream",
     "text": [
      "Classification Report\n",
      "              precision    recall  f1-score   support\n",
      "\n",
      "           0       0.96      0.95      0.96       410\n",
      "           1       0.98      0.81      0.88       395\n",
      "           2       0.82      0.82      0.82       341\n",
      "           3       0.87      0.93      0.90        91\n",
      "           5       0.81      0.86      0.84        86\n",
      "           6       0.77      0.99      0.87       105\n",
      "           7       0.74      1.00      0.85        48\n",
      "           8       0.92      0.93      0.92        83\n",
      "           9       0.97      0.98      0.98        64\n",
      "          10       1.00      0.95      0.98        65\n",
      "          11       0.74      0.97      0.84        69\n",
      "\n",
      "    accuracy                           0.89      1757\n",
      "   macro avg       0.87      0.93      0.89      1757\n",
      "weighted avg       0.90      0.89      0.89      1757\n",
      "\n"
     ]
    }
   ],
   "source": [
    "import pandas as pd\n",
    "import seaborn as sns\n",
    "import matplotlib.pyplot as plt\n",
    "from sklearn.metrics import confusion_matrix, classification_report\n",
    "\n",
    "def print_confusion_matrix(y_true, y_pred, report=True):\n",
    "    labels = sorted(list(set(y_true)))\n",
    "    cmx_data = confusion_matrix(y_true, y_pred, labels=labels)\n",
    "    \n",
    "    df_cmx = pd.DataFrame(cmx_data, index=labels, columns=labels)\n",
    " \n",
    "    fig, ax = plt.subplots(figsize=(7, 6))\n",
    "    sns.heatmap(df_cmx, annot=True, fmt='g' ,square=False)\n",
    "    ax.set_ylim(len(set(y_true)), 0)\n",
    "    plt.show()\n",
    "    \n",
    "    if report:\n",
    "        print('Classification Report')\n",
    "        print(classification_report(y_test, y_pred))\n",
    "\n",
    "Y_pred = model.predict(X_test)\n",
    "y_pred = np.argmax(Y_pred, axis=1)\n",
    "\n",
    "print_confusion_matrix(y_test, y_pred)"
   ]
  },
  {
   "cell_type": "markdown",
   "metadata": {
    "id": "FNP6aqzc9hE5"
   },
   "source": [
    "# Convert to model for Tensorflow-Lite"
   ]
  },
  {
   "cell_type": "code",
   "execution_count": 18,
   "metadata": {
    "id": "ODjnYyld9hE6"
   },
   "outputs": [],
   "source": [
    "# Save as a model dedicated to inference\n",
    "model.save(model_save_path, include_optimizer=False)"
   ]
  },
  {
   "cell_type": "code",
   "execution_count": 19,
   "metadata": {
    "colab": {
     "base_uri": "https://localhost:8080/"
    },
    "id": "zRfuK8Y59hE6",
    "outputId": "a4ca585c-b5d5-4244-8291-8674063209bb"
   },
   "outputs": [
    {
     "name": "stderr",
     "output_type": "stream",
     "text": [
      "WARNING:absl:Found untraced functions such as _update_step_xla while saving (showing 1 of 1). These functions will not be directly callable after loading.\n"
     ]
    },
    {
     "name": "stdout",
     "output_type": "stream",
     "text": [
      "INFO:tensorflow:Assets written to: C:\\Users\\91984\\AppData\\Local\\Temp\\tmp19s92umm\\assets\n"
     ]
    },
    {
     "name": "stderr",
     "output_type": "stream",
     "text": [
      "INFO:tensorflow:Assets written to: C:\\Users\\91984\\AppData\\Local\\Temp\\tmp19s92umm\\assets\n"
     ]
    },
    {
     "data": {
      "text/plain": [
       "6984"
      ]
     },
     "execution_count": 19,
     "metadata": {},
     "output_type": "execute_result"
    }
   ],
   "source": [
    "# Transform model (quantization)\n",
    "\n",
    "converter = tf.lite.TFLiteConverter.from_keras_model(model)\n",
    "converter.optimizations = [tf.lite.Optimize.DEFAULT]\n",
    "tflite_quantized_model = converter.convert()\n",
    "\n",
    "open(tflite_save_path, 'wb').write(tflite_quantized_model)"
   ]
  },
  {
   "cell_type": "markdown",
   "metadata": {
    "id": "CHBPBXdx9hE6"
   },
   "source": [
    "# Inference test"
   ]
  },
  {
   "cell_type": "code",
   "execution_count": 20,
   "metadata": {
    "id": "mGAzLocO9hE7"
   },
   "outputs": [],
   "source": [
    "interpreter = tf.lite.Interpreter(model_path=tflite_save_path)\n",
    "interpreter.allocate_tensors()"
   ]
  },
  {
   "cell_type": "code",
   "execution_count": 21,
   "metadata": {
    "id": "oQuDK8YS9hE7"
   },
   "outputs": [],
   "source": [
    "# Get I / O tensor\n",
    "input_details = interpreter.get_input_details()\n",
    "output_details = interpreter.get_output_details()"
   ]
  },
  {
   "cell_type": "code",
   "execution_count": 22,
   "metadata": {
    "id": "2_ixAf_l9hE7"
   },
   "outputs": [],
   "source": [
    "interpreter.set_tensor(input_details[0]['index'], np.array([X_test[0]]))"
   ]
  },
  {
   "cell_type": "code",
   "execution_count": 23,
   "metadata": {
    "colab": {
     "base_uri": "https://localhost:8080/"
    },
    "id": "s4FoAnuc9hE7",
    "outputId": "91f18257-8d8b-4ef3-c558-e9b5f94fabbf",
    "scrolled": true
   },
   "outputs": [
    {
     "name": "stdout",
     "output_type": "stream",
     "text": [
      "CPU times: total: 0 ns\n",
      "Wall time: 2.98 ms\n"
     ]
    }
   ],
   "source": [
    "%%time\n",
    "# Inference implementation\n",
    "interpreter.invoke()\n",
    "tflite_results = interpreter.get_tensor(output_details[0]['index'])"
   ]
  },
  {
   "cell_type": "code",
   "execution_count": 24,
   "metadata": {
    "colab": {
     "base_uri": "https://localhost:8080/"
    },
    "id": "vONjp19J9hE8",
    "outputId": "77205e24-fd00-42c4-f7b6-e06e527c2cba"
   },
   "outputs": [
    {
     "name": "stdout",
     "output_type": "stream",
     "text": [
      "[5.4147933e-02 1.8410397e-01 4.3902376e-01 3.3401314e-02 4.5697604e-08\n",
      " 2.1942967e-01 1.5647657e-04 2.4558820e-02 3.4328569e-02 9.3507990e-03\n",
      " 2.9707150e-04 1.2014667e-03 8.5952188e-08 2.7523710e-08]\n",
      "2\n"
     ]
    }
   ],
   "source": [
    "print(np.squeeze(tflite_results))\n",
    "print(np.argmax(np.squeeze(tflite_results)))"
   ]
  },
  {
   "cell_type": "code",
   "execution_count": null,
   "metadata": {},
   "outputs": [],
   "source": []
  }
 ],
 "metadata": {
  "accelerator": "GPU",
  "colab": {
   "collapsed_sections": [],
   "name": "keypoint_classification_EN.ipynb",
   "provenance": [],
   "toc_visible": true
  },
  "kernelspec": {
   "display_name": "Python 3 (ipykernel)",
   "language": "python",
   "name": "python3"
  },
  "language_info": {
   "codemirror_mode": {
    "name": "ipython",
    "version": 3
   },
   "file_extension": ".py",
   "mimetype": "text/x-python",
   "name": "python",
   "nbconvert_exporter": "python",
   "pygments_lexer": "ipython3",
   "version": "3.9.10"
  }
 },
 "nbformat": 4,
 "nbformat_minor": 1
}
